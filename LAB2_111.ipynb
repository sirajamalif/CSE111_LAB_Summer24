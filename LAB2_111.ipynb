{
  "nbformat": 4,
  "nbformat_minor": 0,
  "metadata": {
    "colab": {
      "provenance": []
    },
    "kernelspec": {
      "name": "python3",
      "display_name": "Python 3"
    },
    "language_info": {
      "name": "python"
    }
  },
  "cells": [
    {
      "cell_type": "code",
      "execution_count": null,
      "metadata": {
        "colab": {
          "base_uri": "https://localhost:8080/"
        },
        "id": "CwD8pJWlbdaG",
        "outputId": "502d4c49-a549-4a71-ec95-3b3781fe2735"
      },
      "outputs": [
        {
          "output_type": "stream",
          "name": "stdout",
          "text": [
            "Score is 31.3. You are Obese\n",
            "Score is 20.8. You are Normal\n"
          ]
        }
      ],
      "source": [
        "def individual_BMI(height,weight):\n",
        "  cm_height = height\n",
        "  m_height = cm_height/100\n",
        "  bmi_val = weight/(m_height**2)\n",
        "  if bmi_val<18.5:\n",
        "    result = \"Underweight\"\n",
        "  elif 18.5<=bmi_val<=24.9:\n",
        "    result = \"Normal\"\n",
        "  elif 25<=bmi_val<=30:\n",
        "    result = \"Overweight\"\n",
        "  else:\n",
        "    result = \"Obese\"\n",
        "  print(f\"Score is {bmi_val:.1f}. You are {result}\")\n",
        "\n",
        "individual_BMI(175,96)\n",
        "individual_BMI(152,48)"
      ]
    },
    {
      "cell_type": "code",
      "source": [
        "def total_price(burger,location=\"Mohakhali\"):\n",
        "  data = {\"BBQ Chicken Cheese Burger \" : 250,\n",
        "          \"Beef Burger\" : 170,\"Naga Drums\" : 200}\n",
        "\n",
        "  for key,value in data.items():\n",
        "    if burger == key and location == \"Mohakhali\" :\n",
        "      price = value + 40 + (value*.08)\n",
        "    elif burger == key and location !=\"Mohakhali\" :\n",
        "      price = value + 60 + (value*.08)\n",
        "  return price\n",
        "\n",
        "total_price(\"Beef Burger\")"
      ],
      "metadata": {
        "colab": {
          "base_uri": "https://localhost:8080/"
        },
        "id": "WQG_DXYnkUHC",
        "outputId": "22523027-c1ad-4661-8b20-3d9ee22a42bb"
      },
      "execution_count": null,
      "outputs": [
        {
          "output_type": "execute_result",
          "data": {
            "text/plain": [
              "223.6"
            ]
          },
          "metadata": {},
          "execution_count": 22
        }
      ]
    },
    {
      "cell_type": "code",
      "source": [
        "def timeline(days):\n",
        "  years = days//365\n",
        "  months = (days%365)//30\n",
        "  spare_days = (days%365)%30\n",
        "  print(f\"{years} years, {months} months and {spare_days} days\")\n",
        "\n",
        "timeline(4000)"
      ],
      "metadata": {
        "colab": {
          "base_uri": "https://localhost:8080/"
        },
        "id": "gZicWMLscvNF",
        "outputId": "b7651f7e-d4cb-4288-8518-bfceb83a9a21"
      },
      "execution_count": null,
      "outputs": [
        {
          "output_type": "stream",
          "name": "stdout",
          "text": [
            "10 years, 11 months and 20 days\n"
          ]
        }
      ]
    },
    {
      "cell_type": "code",
      "source": [
        "def capitalize(string):\n",
        "  capitalized_string = string[0].upper()\n",
        "\n",
        "  for i in range(1,len(string)):\n",
        "    if string[i-1] == \".\" or string[i-1] == \"!\" or string[i-1] == \"?\":\n",
        "      capitalized_string += string[i].upper()\n",
        "    elif string[i-1] == ' ' and string[i] == 'i':\n",
        "      capitalized_string += 'I'\n",
        "    else:\n",
        "      capitalized_string += string[i]\n",
        "  return capitalized_string\n",
        "\n",
        "capitalize(\"ajdfbajkf asjkfnakjf jkadfnhakjjkfn i, afbha!sjhdgsjuk?sjdfhsjk\")"
      ],
      "metadata": {
        "colab": {
          "base_uri": "https://localhost:8080/",
          "height": 35
        },
        "id": "AHEv6VdDkCD6",
        "outputId": "64b175bc-7439-45b6-c337-0e73af018d60"
      },
      "execution_count": null,
      "outputs": [
        {
          "output_type": "execute_result",
          "data": {
            "text/plain": [
              "'Ajdfbajkf asjkfnakjf jkadfnhakjjkfn I, afbha!Sjhdgsjuk?Sjdfhsjk'"
            ],
            "application/vnd.google.colaboratory.intrinsic+json": {
              "type": "string"
            }
          },
          "metadata": {},
          "execution_count": 20
        }
      ]
    },
    {
      "cell_type": "code",
      "source": [
        "def palindrome(word):\n",
        "    no_space = \"\"\n",
        "    for i in word.split():\n",
        "        if i != \" \":\n",
        "            no_space += i\n",
        "\n",
        "    for i in range(len(no_space)//2):\n",
        "        if no_space[i] != no_space[-i-1]:\n",
        "            return False\n",
        "    return True\n",
        "\n",
        "if palindrome(\"Madam\"):\n",
        "    print(\"Palindrome\")\n",
        "else:\n",
        "    print(\"Not a palindrome\")\n"
      ],
      "metadata": {
        "colab": {
          "base_uri": "https://localhost:8080/"
        },
        "id": "fox1Jm72pWE4",
        "outputId": "3683d405-8172-46a4-bb5f-c1d973bee85e"
      },
      "execution_count": null,
      "outputs": [
        {
          "output_type": "stream",
          "name": "stdout",
          "text": [
            "Not a palindrome\n"
          ]
        }
      ]
    },
    {
      "cell_type": "code",
      "source": [
        "def is_palindrome(word):\n",
        "    no_space = \"\"\n",
        "    for i in word.split():\n",
        "      if i != \" \":\n",
        "        no_space += i\n",
        "\n",
        "    for i in range(len(no_space)//2):\n",
        "        if no_space[i] != no_space[-i-1]:\n",
        "            return False\n",
        "    return True\n",
        "\n",
        "input_string = \"nurses run\"\n",
        "is_palindrome(input_string)\n",
        "if True:\n",
        "      print(\"Palindrome\")\n",
        "else:\n",
        "      print(\"Not a palindrome\")\n"
      ],
      "metadata": {
        "colab": {
          "base_uri": "https://localhost:8080/"
        },
        "id": "96PthfoyyPJD",
        "outputId": "fdd79a76-ed30-4a6c-c06c-c735feca0bbf"
      },
      "execution_count": null,
      "outputs": [
        {
          "output_type": "stream",
          "name": "stdout",
          "text": [
            "Palindrome\n"
          ]
        }
      ]
    },
    {
      "cell_type": "code",
      "source": [
        "def replace_domain(email, new_domain, old_domain=None):\n",
        "\n",
        "    if old_domain is None:\n",
        "        old_domain = email.split('@')[1]\n",
        "\n",
        "    if old_domain == email.split('@')[1]:\n",
        "        local_part = email.split('@')[0]\n",
        "        updated_email = f\"{local_part}@{new_domain}\"\n",
        "        print(f\"Changed: {updated_email}\")\n",
        "    else:\n",
        "        print(f\"Unchanged: {email}\")\n",
        "\n",
        "email1 = 'alice@kaaj.xyz'\n",
        "new_domain1 = 'sheba.xyz'\n",
        "old_domain1 = 'kaaj.com'\n",
        "\n",
        "replace_domain(email1, new_domain1, old_domain1)\n"
      ],
      "metadata": {
        "colab": {
          "base_uri": "https://localhost:8080/"
        },
        "id": "i_2yE3kd9xYX",
        "outputId": "9c212a3c-d7f9-4075-82ff-af9fa559a254"
      },
      "execution_count": null,
      "outputs": [
        {
          "output_type": "stream",
          "name": "stdout",
          "text": [
            "Unchanged: alice@kaaj.xyz\n"
          ]
        }
      ]
    },
    {
      "cell_type": "code",
      "source": [
        "###################################################################\n",
        "\n",
        "#                          LAB2 HW                                #\n",
        "\n",
        "###################################################################"
      ],
      "metadata": {
        "id": "fPkXGfivHWsg"
      },
      "execution_count": null,
      "outputs": []
    },
    {
      "cell_type": "code",
      "source": [
        "def hospital_fee(**patients):\n",
        "    max_amount = 0\n",
        "    max_payer = \"\"\n",
        "\n",
        "    for key, value in patients.items():\n",
        "        if value > max_amount:\n",
        "            max_amount = value\n",
        "            max_payer = key\n",
        "        elif value == max_amount:\n",
        "            max_payer = max_payer + \", \" + key\n",
        "\n",
        "    return max_amount, max_payer\n",
        "\n",
        "max_amount, max_payer = hospital_fee(Neymar=1000, Dembele=600, Reus=500, Bale=1000)\n",
        "\n",
        "print(f\"Highest fee was {max_amount} tk which was paid by {max_payer}\")\n",
        "\n"
      ],
      "metadata": {
        "colab": {
          "base_uri": "https://localhost:8080/"
        },
        "id": "lNzhIfx5qOYw",
        "outputId": "f6e514b5-d606-45b7-ed7b-3eae901a4ab1"
      },
      "execution_count": null,
      "outputs": [
        {
          "output_type": "stream",
          "name": "stdout",
          "text": [
            "Highest fee was 1000 tk which was paid by Neymar, Bale\n"
          ]
        }
      ]
    },
    {
      "cell_type": "code",
      "source": [
        "  def is_james_bond(data):\n",
        "      constant_lis = [0, 0, 7]\n",
        "      new_lis = []\n",
        "\n",
        "      for i in range(len(data)-2):\n",
        "          if data[i] == 0 or data[i] == 7:\n",
        "              new_lis.append(data[i])\n",
        "          elif data[i + 1] == 0 or data[i + 1] == 7:\n",
        "              new_lis.append(data[i + 1])\n",
        "          elif data[i + 2] == 0 or data[i + 2] == 7:\n",
        "              new_lis.append(data[i + 2])\n",
        "\n",
        "\n",
        "      if constant_lis == new_lis:\n",
        "        return True\n",
        "      return False\n",
        "\n",
        "\n",
        "  result = is_james_bond([1, 0, 2, 0, 4, 7, 5])\n",
        "  print(result)\n"
      ],
      "metadata": {
        "colab": {
          "base_uri": "https://localhost:8080/"
        },
        "id": "dhN9bOmWyESo",
        "outputId": "8a01764d-843b-4531-dbbb-4866d802c0b2"
      },
      "execution_count": null,
      "outputs": [
        {
          "output_type": "stream",
          "name": "stdout",
          "text": [
            "False\n"
          ]
        }
      ]
    },
    {
      "cell_type": "code",
      "source": [
        "def username_generator (first_name, last_name, student_id, middle_name= None):\n",
        "  f_name = \"\"\n",
        "  l_name = \"\"\n",
        "  id = \"\"\n",
        "  user = \"\"\n",
        "\n",
        "  for i in first_name.split():\n",
        "    f_name += i[0:3]\n",
        "  u_f_name = f_name.upper()\n",
        "\n",
        "  for j in last_name.split():\n",
        "    l_name += j[-3:]\n",
        "  l_l_name = l_name.lower()\n",
        "\n",
        "  for k in student_id.split():\n",
        "    id += k[-4:]\n",
        "\n",
        "  user = u_f_name + (middle_name or \"\") + l_l_name + '_' + id\n",
        "  return user\n",
        "\n",
        "first_name = input(\"First Name: \")\n",
        "middle_name = input(\"Middle Name: \")\n",
        "last_name = input(\"Last Name: \")\n",
        "student_id = input(\"Student ID: \")\n",
        "\n",
        "\n",
        "print(username_generator(first_name, last_name, student_id, middle_name))"
      ],
      "metadata": {
        "colab": {
          "base_uri": "https://localhost:8080/"
        },
        "id": "t0sUzskY6Kgp",
        "outputId": "8a9aa608-2bc6-4cb3-efd0-9e46ce214965"
      },
      "execution_count": null,
      "outputs": [
        {
          "output_type": "stream",
          "name": "stdout",
          "text": [
            "First Name: sirajam\n",
            "Middle Name: munir\n",
            "Last Name: alif\n",
            "Student ID: 23201065\n",
            "SIRmunirlif_1065\n"
          ]
        }
      ]
    },
    {
      "cell_type": "code",
      "source": [
        "def key_generator(*names):\n",
        "    keys = []\n",
        "    for name in names:\n",
        "        first_char = \"\"\n",
        "        last_char = \"\"\n",
        "        middle_chars = \"\"\n",
        "\n",
        "        for char in name:\n",
        "            if char == name[0]:\n",
        "                first_char += char.lower()\n",
        "            elif char == name[-1]:\n",
        "                last_char += char.upper()\n",
        "            else:\n",
        "                middle_chars += str(ord(char))\n",
        "\n",
        "        key = first_char + middle_chars[::-1] + last_char\n",
        "        keys.append(key)\n",
        "    return keys\n",
        "\n",
        "\n",
        "key_list = key_generator(\"Alex\", \"Bob\", \"Trudy\")\n",
        "print(\"Encrypted Keys:\", key_list)\n"
      ],
      "metadata": {
        "colab": {
          "base_uri": "https://localhost:8080/"
        },
        "id": "ZbLQh96UHMGm",
        "outputId": "76efe021-9b3e-4b1e-da37-cf374c5d1cb7"
      },
      "execution_count": null,
      "outputs": [
        {
          "output_type": "stream",
          "name": "stdout",
          "text": [
            "Encrypted Keys: ['a101801X', 'b111B', 't001711411Y']\n"
          ]
        }
      ]
    },
    {
      "cell_type": "code",
      "source": [
        "import random\n",
        "\n",
        "def playRockPaperScissor(rounds):\n",
        "    player_score = 0\n",
        "    computer_score = 0\n",
        "\n",
        "    for i in range(rounds):\n",
        "        player_action = input(\"Your action: \")\n",
        "        computer_action = random.choice([\"rock\", \"paper\", \"scissor\"])\n",
        "\n",
        "        print(\"Computer:\", computer_action)\n",
        "\n",
        "        if player_action == computer_action:\n",
        "            print(\"It's a tie!\")\n",
        "        elif (player_action == \"rock\" and computer_action == \"scissor\") or (player_action == \"scissor\" and computer_action == \"paper\") or (player_action == \"paper\" and computer_action == \"rock\"):\n",
        "            print(\"You win this round!\")\n",
        "            player_score += 1\n",
        "        else:\n",
        "            print(\"Computer wins this round!\")\n",
        "            computer_score += 1\n",
        "\n",
        "    print(\"Your Score:\", player_score)\n",
        "    print(\"Computer's Score:\", computer_score)\n",
        "\n",
        "    if player_score > computer_score:\n",
        "        print(\"You have won the game!\")\n",
        "    elif player_score < computer_score:\n",
        "        print(\"Computer has won the game!\")\n",
        "    else:\n",
        "        print(\"The game is a tie!\")\n",
        "\n",
        "rounds = int(input(\"Enter the number of rounds: \"))\n",
        "playRockPaperScissor(rounds)\n",
        "\n"
      ],
      "metadata": {
        "colab": {
          "base_uri": "https://localhost:8080/"
        },
        "id": "VdquBvMBPCFt",
        "outputId": "74cc3a06-1286-4989-ff01-b823488dc95a"
      },
      "execution_count": null,
      "outputs": [
        {
          "output_type": "stream",
          "name": "stdout",
          "text": [
            "Enter the number of rounds: 2\n",
            "Your action: rock\n",
            "Computer: scissor\n",
            "You win this round!\n",
            "Your action: paper\n",
            "Computer: paper\n",
            "It's a tie!\n",
            "Your Score: 1\n",
            "Computer's Score: 0\n",
            "You have won the game!\n"
          ]
        }
      ]
    },
    {
      "cell_type": "code",
      "source": [
        "def assign_students_to_sections(sections, *students):\n",
        "    section_dict = {}\n",
        "    total_sections = 0\n",
        "\n",
        "    for section in sections:\n",
        "        total_sections += 1\n",
        "        section_dict[section] = []\n",
        "\n",
        "    for student in students:\n",
        "        ascii_sum = 0\n",
        "        for char in student:\n",
        "            ascii_sum += ord(char)\n",
        "\n",
        "        section_index = ascii_sum % total_sections\n",
        "\n",
        "        section = sections[section_index]\n",
        "\n",
        "        if section in section_dict:\n",
        "            section_dict[section].append(student)\n",
        "        else:\n",
        "            section_dict[section] = [student]\n",
        "\n",
        "    return section_dict\n",
        "\n",
        "\n",
        "sections = 'ABCDE'\n",
        "students = ['Alice', 'Bob', 'Charlie', 'David', 'Eve', 'Frank', 'Grace']\n",
        "result = assign_students_to_sections(sections, *students)\n",
        "print(result)\n"
      ],
      "metadata": {
        "colab": {
          "base_uri": "https://localhost:8080/"
        },
        "id": "hy-ujL-rioTx",
        "outputId": "d694a6ab-1ff0-4ad1-d1cb-6228a2015613"
      },
      "execution_count": null,
      "outputs": [
        {
          "output_type": "stream",
          "name": "stdout",
          "text": [
            "{'A': ['Bob'], 'B': ['Charlie'], 'C': ['Grace'], 'D': ['Alice', 'David', 'Eve', 'Frank'], 'E': []}\n"
          ]
        }
      ]
    }
  ]
}