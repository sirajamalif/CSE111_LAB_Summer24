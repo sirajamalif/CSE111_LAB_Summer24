{
  "nbformat": 4,
  "nbformat_minor": 0,
  "metadata": {
    "colab": {
      "provenance": []
    },
    "kernelspec": {
      "name": "python3",
      "display_name": "Python 3"
    },
    "language_info": {
      "name": "python"
    }
  },
  "cells": [
    {
      "cell_type": "code",
      "execution_count": null,
      "metadata": {
        "id": "QsT87wmihOFX"
      },
      "outputs": [],
      "source": [
        "# HOME TASKS #"
      ]
    },
    {
      "cell_type": "code",
      "source": [
        "class Shape:\n",
        "  def __init__(self,name,height,base):\n",
        "    self.area = 0\n",
        "    self.name = name\n",
        "    self.height = height\n",
        "    self.base = base\n",
        "\n",
        "  def get_height_base(self):\n",
        "    return \"Height: \"+str(self.height)+\", Base: \"+str(self.base)\n",
        "\n",
        "  def printDetail(self):\n",
        "    return (f\"Shape name: {self.name}\\n{self.get_height_base()}\\nArea: {self.area:.1f}\")\n",
        "\n",
        "class triangle(Shape):\n",
        "  def __init__(self,name='Default', height=0, base=0):\n",
        "    super().__init__(name,height,base)\n",
        "\n",
        "  def calcArea(self):\n",
        "    self.area = 0.5 * self.height * self.base\n",
        "\n",
        "\n",
        "class trapezoid(Shape):\n",
        "  def __init__(self, name, height, base, base2):\n",
        "    super().__init__(name, height, base)\n",
        "    self.base2 = base2\n",
        "\n",
        "  def calcArea(self):\n",
        "    self.area = 0.5 * (self.base + self.base2) * self.height\n",
        "\n",
        "  def printDetail(self):\n",
        "        return (f\"Shape name: {self.name}\\n{self.get_height_base()}, Side_A: {self.base2}\\nArea: {self.area:.1f}\")\n",
        "\n",
        "\n",
        "tri_default = triangle()\n",
        "tri_default.calcArea()\n",
        "print(tri_default.printDetail())\n",
        "print('--------------------------')\n",
        "tri = triangle('Triangle', 10, 5)\n",
        "tri.calcArea()\n",
        "print(tri.printDetail())\n",
        "print('---------------------------')\n",
        "trap = trapezoid('Trapezoid', 10, 6, 4)\n",
        "trap.calcArea()\n",
        "print(trap.printDetail())"
      ],
      "metadata": {
        "colab": {
          "base_uri": "https://localhost:8080/"
        },
        "id": "RV_fQPBeFFai",
        "outputId": "0a7820ad-47f2-4588-b23f-d612d079d496"
      },
      "execution_count": null,
      "outputs": [
        {
          "output_type": "stream",
          "name": "stdout",
          "text": [
            "Shape name: Default\n",
            "Height: 0, Base: 0\n",
            "Area: 0.0\n",
            "--------------------------\n",
            "Shape name: Triangle\n",
            "Height: 10, Base: 5\n",
            "Area: 25.0\n",
            "---------------------------\n",
            "Shape name: Trapezoid\n",
            "Height: 10, Base: 6, Side_A: 4\n",
            "Area: 50.0\n"
          ]
        }
      ]
    },
    {
      "cell_type": "code",
      "source": [
        "class SportsPerson:\n",
        "    def __init__(self, team_name, name, role):\n",
        "        self.__team = team_name\n",
        "        self.__name = name\n",
        "        self.role = role\n",
        "        self.earning = 0\n",
        "\n",
        "    def get_name_team(self):\n",
        "        return 'Name: '+self.__name+', Team Name: ' +self.__team\n",
        "\n",
        "class Player(SportsPerson):\n",
        "    def __init__(self, team_name, name, role, total_goal, total_match):\n",
        "        super().__init__(team_name, name, role)\n",
        "        self.total_goal = total_goal\n",
        "        self.total_match = total_match\n",
        "\n",
        "    def calculate_ratio(self):\n",
        "        self.goal_ratio = self.total_goal / self.total_match\n",
        "\n",
        "    def print_details(self):\n",
        "        self.calculate_ratio()\n",
        "        self.earning = (self.total_goal * 1000) + (self.total_match * 10)\n",
        "        print(self.get_name_team())\n",
        "        print('Team Role:', self.role)\n",
        "        print('Total Goal:', self.total_goal, ', Total Played:', self.total_match)\n",
        "        print('Goal Ratio:', self.goal_ratio)\n",
        "        print(f'Match Earning: {self.earning}K')\n",
        "\n",
        "class Manager(SportsPerson):\n",
        "    def __init__(self, team_name, name, role, match_win):\n",
        "        super().__init__(team_name, name, role)\n",
        "        self.match_win = match_win\n",
        "\n",
        "    def print_details(self):\n",
        "        print(self.get_name_team())\n",
        "        print('Team Role:', self.role)\n",
        "        print('Total Win:', self.match_win)\n",
        "        self.earning = self.match_win * 1000\n",
        "        print(f'Match Earning: {self.earning}K')\n",
        "\n",
        "\n",
        "player_one = Player('Al-Nassr', 'Ronaldo', 'Striker', 25, 32)\n",
        "player_one.calculate_ratio()\n",
        "player_one.print_details()\n",
        "print('------------------------------------------')\n",
        "manager_one = Manager('Real Madrid', 'Zidane', 'Manager', 25)\n",
        "manager_one.print_details()\n"
      ],
      "metadata": {
        "colab": {
          "base_uri": "https://localhost:8080/"
        },
        "id": "l3Fsy8vDVfu9",
        "outputId": "2a10e6d5-9205-4a5c-b996-e630fc90d4cf"
      },
      "execution_count": null,
      "outputs": [
        {
          "output_type": "stream",
          "name": "stdout",
          "text": [
            "Name: Ronaldo, Team Name: Al-Nassr\n",
            "Team Role: Striker\n",
            "Total Goal: 25 , Total Played: 32\n",
            "Goal Ratio: 0.78125\n",
            "Match Earning: 25320K\n",
            "------------------------------------------\n",
            "Name: Zidane, Team Name: Real Madrid\n",
            "Team Role: Manager\n",
            "Total Win: 25\n",
            "Match Earning: 25000K\n"
          ]
        }
      ]
    },
    {
      "cell_type": "code",
      "source": [
        "class KK_tea:\n",
        "    total_sales_dict = {}\n",
        "\n",
        "    def __init__(self, price, bags=50, name='Regular'):\n",
        "        self.price = price\n",
        "        self.bags = bags\n",
        "        self.weight = bags * 2\n",
        "        self.status = False\n",
        "        self.name = name\n",
        "\n",
        "    def product_detail(self):\n",
        "        print(f\"Name: KK {self.name} Tea, Weight: {self.weight}\")\n",
        "        print(f\"Tea Bags: {self.bags}, Price: {self.price}\")\n",
        "        print(f\"Status: {self.status}\")\n",
        "\n",
        "    @classmethod\n",
        "    def total_sales(cls):\n",
        "        result = {}\n",
        "        if not cls.total_sales_dict:\n",
        "            result['KK Regular Tea'] = 0\n",
        "        else:\n",
        "            for key, value in cls.total_sales_dict.items():\n",
        "                result[key] = value\n",
        "        print(f\"Total sales: {result}\")\n",
        "\n",
        "    @classmethod\n",
        "    def update_sold_status_regular(cls, *objects):\n",
        "        for obj in objects:\n",
        "            obj.status = True\n",
        "            cls.total_sales_dict[f'KK {obj.name} Tea'] = cls.total_sales_dict.get(f'KK {obj.name} Tea', 0) + 1\n",
        "\n",
        "\n",
        "class KK_flavoured_tea(KK_tea):\n",
        "    def __init__(self, flavor, price, bags=50):\n",
        "        super().__init__(price, bags, name=flavor)\n",
        "        self.flavor = flavor\n",
        "\n",
        "    def product_detail(self):\n",
        "        print(f\"Name: KK {self.flavor} Tea, Weight: {self.weight}\")\n",
        "        print(f\"Tea Bags: {self.bags}, Price: {self.price}\")\n",
        "        print(f\"Status: {self.status}\")\n",
        "\n",
        "    @classmethod\n",
        "    def update_sold_status_flavoured(cls, *objects):\n",
        "        for obj in objects:\n",
        "            obj.status = True\n",
        "            cls.total_sales_dict[f\"KK {obj.flavor} Tea\"] = cls.total_sales_dict.get(f\"KK {obj.flavor} Tea\", 0) + 1\n",
        "\n",
        "\n",
        "t1 = KK_tea(250)\n",
        "print(\"-----------------1-----------------\")\n",
        "t1.product_detail()\n",
        "print(\"-----------------2-----------------\")\n",
        "KK_tea.total_sales()\n",
        "print(\"-----------------3-----------------\")\n",
        "t2 = KK_tea(470, 100)\n",
        "t3 = KK_tea(360, 75)\n",
        "KK_tea.update_sold_status_regular(t1, t2, t3)\n",
        "print(\"-----------------4-----------------\")\n",
        "t3.product_detail()\n",
        "print(\"-----------------5-----------------\")\n",
        "KK_tea.total_sales()\n",
        "print(\"-----------------6-----------------\")\n",
        "t4 = KK_flavoured_tea(\"Jasmine\", 260, 50)\n",
        "t5 = KK_flavoured_tea(\"Honey Lemon\", 270, 45)\n",
        "t6 = KK_flavoured_tea(\"Honey Lemon\", 270, 45)\n",
        "print(\"-----------------7-----------------\")\n",
        "t4.product_detail()\n",
        "print(\"-----------------8-----------------\")\n",
        "t6.product_detail()\n",
        "print(\"-----------------9-----------------\")\n",
        "KK_flavoured_tea.update_sold_status_flavoured(t4, t5, t6)\n",
        "print(\"-----------------10-----------------\")\n",
        "KK_tea.total_sales()\n",
        "\n"
      ],
      "metadata": {
        "colab": {
          "base_uri": "https://localhost:8080/"
        },
        "id": "A2W_HKK1Gkh1",
        "outputId": "ba466a8c-6eb5-4d2f-98c7-c8bacc5103bd"
      },
      "execution_count": null,
      "outputs": [
        {
          "output_type": "stream",
          "name": "stdout",
          "text": [
            "-----------------1-----------------\n",
            "Name: KK Regular Tea, Weight: 100\n",
            "Tea Bags: 50, Price: 250\n",
            "Status: False\n",
            "-----------------2-----------------\n",
            "Total sales: {'KK Regular Tea': 0}\n",
            "-----------------3-----------------\n",
            "-----------------4-----------------\n",
            "Name: KK Regular Tea, Weight: 150\n",
            "Tea Bags: 75, Price: 360\n",
            "Status: True\n",
            "-----------------5-----------------\n",
            "Total sales: {'KK Regular Tea': 3}\n",
            "-----------------6-----------------\n",
            "-----------------7-----------------\n",
            "Name: KK Jasmine Tea, Weight: 100\n",
            "Tea Bags: 50, Price: 260\n",
            "Status: False\n",
            "-----------------8-----------------\n",
            "Name: KK Honey Lemon Tea, Weight: 90\n",
            "Tea Bags: 45, Price: 270\n",
            "Status: False\n",
            "-----------------9-----------------\n",
            "-----------------10-----------------\n",
            "Total sales: {'KK Regular Tea': 3, 'KK Jasmine Tea': 1, 'KK Honey Lemon Tea': 2}\n"
          ]
        }
      ]
    },
    {
      "cell_type": "code",
      "source": [
        "class TwoDVector:\n",
        "    def __init__(self, x, y):\n",
        "        self.comps = [x, y]\n",
        "\n",
        "    def add2DVectors(self, *vectors):\n",
        "        for vec in vectors:\n",
        "            for i in range(2):\n",
        "                self.comps[i] += vec.comps[i]\n",
        "\n",
        "    def print2DVector(self):\n",
        "        if self.comps[1] >= 0:\n",
        "          y_str = \"+\" + str(self.comps[1])\n",
        "        else:\n",
        "          y_str = str(self.comps[1])\n",
        "        print(f\"{self.comps[0]}i {y_str}j\")\n",
        "\n",
        "\n",
        "class ThreeDVector(TwoDVector):\n",
        "    def __init__(self, x, y, z):\n",
        "        super().__init__(x, y)\n",
        "        self.comps.append(z)\n",
        "\n",
        "    def add3DVectors(self, *vectors):\n",
        "        self.add2DVectors(*vectors)\n",
        "        for vec in vectors:\n",
        "            self.comps[2] += vec.comps[2]\n",
        "\n",
        "    def multiplyScalar(self, scalar):\n",
        "        for i in range(3):\n",
        "            self.comps[i] *= scalar\n",
        "\n",
        "    def calculateLength(self):\n",
        "        total = 0\n",
        "        for c in self.comps:\n",
        "          total += c ** 2\n",
        "        result = total ** 0.5\n",
        "        return result\n",
        "\n",
        "    def print3DVector(self):\n",
        "        if self.comps[1] >= 0:\n",
        "          y_str = f\"+ {self.comps[1]}\"\n",
        "        else:\n",
        "          y_str = str(self.comps[1])\n",
        "\n",
        "        print(f\"{self.comps[0]}i {y_str}j {self.comps[2]}k\")\n",
        "\n",
        "TwoDV1 = TwoDVector(5, 6)\n",
        "TwoDV2 = TwoDVector(3, 7)\n",
        "TwoDV3 = TwoDVector(1, 8)\n",
        "print(\"===============\")\n",
        "TwoDV1.add2DVectors(TwoDV2, TwoDV3)\n",
        "TwoDV1.print2DVector()\n",
        "print(\"===============\")\n",
        "ThreeDV1 = ThreeDVector(5, 6, 1)\n",
        "ThreeDV2 = ThreeDVector(1, 9, -7)\n",
        "ThreeDV3 = ThreeDVector(8, 2, 4)\n",
        "print(\"===============\")\n",
        "ThreeDV1.add3DVectors(ThreeDV2,ThreeDV3)\n",
        "ThreeDV1.print3DVector()\n",
        "print(\"===============\")\n",
        "ThreeDV1.multiplyScalar(3)\n",
        "ThreeDV1.print3DVector()\n",
        "print(\"===============\")\n",
        "print(ThreeDV1.calculateLength())"
      ],
      "metadata": {
        "colab": {
          "base_uri": "https://localhost:8080/"
        },
        "id": "OebOBc03jCFx",
        "outputId": "6f132ffa-e537-42f8-b52b-ceb5ccbdfefc"
      },
      "execution_count": null,
      "outputs": [
        {
          "output_type": "stream",
          "name": "stdout",
          "text": [
            "===============\n",
            "9i +21j\n",
            "===============\n",
            "===============\n",
            "14i + 17j -2k\n",
            "===============\n",
            "42i + 51j -6k\n",
            "===============\n",
            "66.34003316248794\n"
          ]
        }
      ]
    },
    {
      "cell_type": "code",
      "source": [
        "# CLASS TASKS #"
      ],
      "metadata": {
        "id": "gfk22CnWQy0p"
      },
      "execution_count": null,
      "outputs": []
    },
    {
      "cell_type": "code",
      "source": [
        "class Student:\n",
        "    def __init__(self, name='Just a student', dept='nothing'):\n",
        "        self.__name = name\n",
        "        self.__department = dept\n",
        "    def set_department(self, dept):\n",
        "        self.__department = dept\n",
        "    def get_name(self):\n",
        "        return self.__name\n",
        "    def set_name(self,name):\n",
        "        self.__name = name\n",
        "    def detail(self):\n",
        "        return 'Name: '+self.__name+' Department: '+self.__department\n",
        "\n",
        "class BBA_Student(Student):\n",
        "  def __init__(self,name=\"default\",dept='BBA'):\n",
        "    super().__init__(name,dept)\n",
        "\n",
        "\n",
        "print(BBA_Student().detail())\n",
        "print(BBA_Student('Humpty Dumpty').detail())\n",
        "print(BBA_Student('Little Bo Peep').detail())"
      ],
      "metadata": {
        "colab": {
          "base_uri": "https://localhost:8080/"
        },
        "id": "NzzZgVEsQ1i4",
        "outputId": "8787389a-f0a0-4519-88cf-4f6954f7fde2"
      },
      "execution_count": null,
      "outputs": [
        {
          "output_type": "stream",
          "name": "stdout",
          "text": [
            "Name: default Department: BBA\n",
            "Name: Humpty Dumpty Department: BBA\n",
            "Name: Little Bo Peep Department: BBA\n"
          ]
        }
      ]
    },
    {
      "cell_type": "code",
      "source": [
        "class Vehicle:\n",
        "    def __init__(self):\n",
        "        self.x = 0\n",
        "        self.y = 0\n",
        "    def moveUp(self):\n",
        "        self.y += 1\n",
        "    def moveDown(self):\n",
        "        self.y -= 1\n",
        "    def moveRight(self):\n",
        "        self.x += 1\n",
        "    def moveLeft(self):\n",
        "        self.x -= 1\n",
        "    def detail(self):\n",
        "        return '('+str(self.x)+' , '+str(self.y)+')'\n",
        "\n",
        "class Vehicle2010(Vehicle):\n",
        "    def moveLowerLeft(self):\n",
        "        super().moveDown()\n",
        "        super().moveLeft()\n",
        "\n",
        "    def equals(self, other):\n",
        "        return self.x == other.x and self.y == other.y\n",
        "\n",
        "\n",
        "\n",
        "\n",
        "\n",
        "\n",
        "print('Part 1')\n",
        "print('------')\n",
        "car = Vehicle()\n",
        "print(car.detail())\n",
        "car.moveUp()\n",
        "print(car.detail())\n",
        "car.moveLeft()\n",
        "print(car.detail())\n",
        "car.moveDown()\n",
        "print(car.detail())\n",
        "car.moveRight()\n",
        "print(car.detail())\n",
        "print('------')\n",
        "print('Part 2')\n",
        "print('------')\n",
        "car1 = Vehicle2010()\n",
        "print(car1.detail())\n",
        "car1.moveLowerLeft()\n",
        "print(car1.detail())\n",
        "car2 = Vehicle2010()\n",
        "car2.moveLeft()\n",
        "print(car1.equals(car2))\n",
        "car2.moveDown()\n",
        "print(car1.equals(car2))"
      ],
      "metadata": {
        "colab": {
          "base_uri": "https://localhost:8080/"
        },
        "id": "4vCUqAsLaiOU",
        "outputId": "ea085181-3364-46c3-c95e-14492b921ffa"
      },
      "execution_count": null,
      "outputs": [
        {
          "output_type": "stream",
          "name": "stdout",
          "text": [
            "Part 1\n",
            "------\n",
            "(0 , 0)\n",
            "(0 , 1)\n",
            "(-1 , 1)\n",
            "(-1 , 0)\n",
            "(0 , 0)\n",
            "------\n",
            "Part 2\n",
            "------\n",
            "(0 , 0)\n",
            "(-1 , -1)\n",
            "False\n",
            "True\n"
          ]
        }
      ]
    },
    {
      "cell_type": "code",
      "source": [
        "class Tournament:\n",
        "    def __init__(self,name='Default'):\n",
        "        self.__name = name\n",
        "    def set_name(self,name):\n",
        "        self.__name = name\n",
        "    def get_name(self):\n",
        "        return self.__name\n",
        "\n",
        "class Cricket_Tournament(Tournament):\n",
        "  def __init__(self,name='Default',num_teams=0,m_type='No Type'):\n",
        "    super().__init__(name)\n",
        "    self.num_teams = num_teams\n",
        "    self.m_type = m_type\n",
        "  def detail(self):\n",
        "    return f\"Cricket Tournament Name: {self.get_name()}\\nNumber of Teams: {self.num_teams}\\nType: {self.m_type}\"\n",
        "\n",
        "class Tennis_Tournament(Tournament):\n",
        "  def __init__(self,name,num):\n",
        "    super().__init__(name)\n",
        "    self.num = num\n",
        "  def detail(self):\n",
        "    return f\"Tennis Tournament Name: {self.get_name()}\\nNumber of Players: {self.num}\"\n",
        "\n",
        "\n",
        "ct1 = Cricket_Tournament()\n",
        "print(ct1.detail())\n",
        "print(\"-----------------------\")\n",
        "ct2 = Cricket_Tournament(\"IPL\",10,\"t20\")\n",
        "print(ct2.detail())\n",
        "print(\"-----------------------\")\n",
        "tt = Tennis_Tournament(\"Roland Garros\",128)\n",
        "print(tt.detail())\n"
      ],
      "metadata": {
        "id": "xNcH5btntl9W",
        "colab": {
          "base_uri": "https://localhost:8080/"
        },
        "outputId": "1b5ddd35-9c00-44e7-8b11-20050616fac6"
      },
      "execution_count": null,
      "outputs": [
        {
          "output_type": "stream",
          "name": "stdout",
          "text": [
            "Cricket Tournament Name: Default\n",
            "Number of Teams: 0\n",
            "Type: No Type\n",
            "-----------------------\n",
            "Cricket Tournament Name: IPL\n",
            "Number of Teams: 10\n",
            "Type: t20\n",
            "-----------------------\n",
            "Tennis Tournament Name: Roland Garros\n",
            "Number of Players: 128\n"
          ]
        }
      ]
    },
    {
      "cell_type": "code",
      "source": [
        "class Product:\n",
        "    def __init__(self,id, title, price):\n",
        "        self.__id = id\n",
        "        self.__title = title\n",
        "        self.__price = price\n",
        "    def get_id_title_price(self):\n",
        "        return \"ID: \"+str(self.__id)+\" Title: \"+self.__title+        \" Price: \"+str(self.__price)\n",
        "\n",
        "class Book(Product):\n",
        "  def __init__(self,id, title, price,isbn,publisher):\n",
        "    super().__init__(id, title, price)\n",
        "    self.isbn = isbn\n",
        "    self.publisher = publisher\n",
        "  def printDetail(self):\n",
        "    return f\"{self.get_id_title_price()}\\nISBN: {self.isbn} Publisher: {self.publisher}\"\n",
        "\n",
        "class CD(Product):\n",
        "  def __init__(self,id, title, price,band,duration,genre):\n",
        "    super().__init__(id, title, price)\n",
        "    self.band = band\n",
        "    self.duration = duration\n",
        "    self.genre = genre\n",
        "  def printDetail(self):\n",
        "    return f\"{self.get_id_title_price()}\\nBand: {self.band} Duration: {self.duration} minutes\\nGenre: {self.genre}\"\n",
        "\n",
        "\n",
        "book = Book(1,\"The Alchemist\",500,\"97806\",\"HarperCollins\")\n",
        "print(book.printDetail())\n",
        "print(\"-----------------------\")\n",
        "cd = CD(2,\"Shotto\",300,\"Warfaze\",50,\"Hard Rock\")\n",
        "print(cd.printDetail())\n",
        "\n"
      ],
      "metadata": {
        "colab": {
          "base_uri": "https://localhost:8080/"
        },
        "id": "7rhL_6CaGn7n",
        "outputId": "8e0898b5-1e46-40f5-991a-aabc73d52f3c"
      },
      "execution_count": null,
      "outputs": [
        {
          "output_type": "stream",
          "name": "stdout",
          "text": [
            "ID: 1 Title: The Alchemist Price: 500\n",
            "ISBN: 97806 Publisher: HarperCollins\n",
            "-----------------------\n",
            "ID: 2 Title: Shotto Price: 300\n",
            "Band: Warfaze Duration: 50 minutes\n",
            "Genre: Hard Rock\n"
          ]
        }
      ]
    },
    {
      "cell_type": "code",
      "source": [
        "class Animal:\n",
        "    def __init__(self,sound):\n",
        "        self.__sound = sound\n",
        "\n",
        "    def makeSound(self):\n",
        "        return self.__sound\n",
        "\n",
        "\n",
        "\n",
        "class Printer:\n",
        "    def printSound(self, a):\n",
        "        print(a.makeSound())\n",
        "\n",
        "class Dog(Animal):\n",
        "  def __init__(self,sound):\n",
        "    super().__init__(sound)\n",
        "\n",
        "class Cat(Animal):\n",
        "  def __init__(self,sound):\n",
        "    super().__init__(sound)\n",
        "\n",
        "\n",
        "d1 = Dog('bark')\n",
        "c1 = Cat('meow')\n",
        "a1 = Animal('Animal does not make sound')\n",
        "pr = Printer()\n",
        "pr.printSound(a1)\n",
        "pr.printSound(c1)\n",
        "pr.printSound(d1)"
      ],
      "metadata": {
        "colab": {
          "base_uri": "https://localhost:8080/"
        },
        "id": "ysB_UiOUJ9hf",
        "outputId": "c15938bb-33ae-48f4-9619-660e2f563486"
      },
      "execution_count": null,
      "outputs": [
        {
          "output_type": "stream",
          "name": "stdout",
          "text": [
            "Animal does not make sound\n",
            "meow\n",
            "bark\n"
          ]
        }
      ]
    }
  ]
}