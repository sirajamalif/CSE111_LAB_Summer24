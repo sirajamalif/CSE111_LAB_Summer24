{
  "nbformat": 4,
  "nbformat_minor": 0,
  "metadata": {
    "colab": {
      "provenance": []
    },
    "kernelspec": {
      "name": "python3",
      "display_name": "Python 3"
    },
    "language_info": {
      "name": "python"
    }
  },
  "cells": [
    {
      "cell_type": "code",
      "execution_count": 1,
      "metadata": {
        "id": "fRnk8sgcYPPm",
        "colab": {
          "base_uri": "https://localhost:8080/"
        },
        "outputId": "153b71d2-27c9-41b8-d369-127766bace74"
      },
      "outputs": [
        {
          "output_type": "stream",
          "name": "stdout",
          "text": [
            "ID: 1\n",
            "Name: Samin\n",
            "Department: CSE\n",
            "Age: 21\n",
            "CGPA: 3.91\n",
            "-----------------------\n",
            "ID: 2\n",
            "Name: Fahim\n",
            "Department: ECE\n",
            "Age: 21\n",
            "CGPA: 3.85\n",
            "-----------------------\n",
            "ID: 3\n",
            "Name: Tahura\n",
            "Department: EEE\n",
            "Age: 22\n",
            "CGPA: 3.01\n",
            "-----------------------\n",
            "ID: 4\n",
            "Name: Sumaiya\n",
            "Department: BBA\n",
            "Age: 23\n",
            "CGPA: 3.96\n"
          ]
        }
      ],
      "source": [
        "class Student:\n",
        "  ID = 0\n",
        "  def __init__(self,name,department,age,cgpa):\n",
        "    self.name = name\n",
        "    self.department = department\n",
        "    self.age = age\n",
        "    self.cgpa = cgpa\n",
        "    Student.ID += 1\n",
        "    self.id = Student.ID\n",
        "  @classmethod\n",
        "  def from_String(cls,info):\n",
        "    name,department,age,cgpa = info.split('-')\n",
        "    string = cls(name,department,age,cgpa)\n",
        "    return string\n",
        "  def showDetails(self):\n",
        "    print(f'ID: {self.id}\\nName: {self.name}\\nDepartment: {self.department}\\nAge: {self.age}\\nCGPA: {self.cgpa}')\n",
        "s1 = Student(\"Samin\", \"CSE\", 21, 3.91)\n",
        "s1.showDetails()\n",
        "print(\"-----------------------\")\n",
        "s2 = Student(\"Fahim\", \"ECE\", 21, 3.85)\n",
        "s2.showDetails()\n",
        "print(\"-----------------------\")\n",
        "s3 = Student(\"Tahura\", \"EEE\", 22, 3.01)\n",
        "s3.showDetails()\n",
        "print(\"-----------------------\")\n",
        "s4 = Student.from_String(\"Sumaiya-BBA-23-3.96\")\n",
        "s4.showDetails()"
      ]
    },
    {
      "cell_type": "code",
      "source": [
        "class Passenger:\n",
        "  count = 0\n",
        "  def __init__(self,name):\n",
        "    self.name = name\n",
        "    self.fare = 450\n",
        "    Passenger.count += 1\n",
        "  def set_bag_weight(self,weight):\n",
        "    if 21 <= weight <= 50:\n",
        "      self.fare += 50\n",
        "    elif weight > 50:\n",
        "      self.fare += 100\n",
        "  def printDetail(self):\n",
        "    print(f'Name: {self.name}\\nBus Fare: {self.fare}')\n",
        "\n",
        "print(\"Total Passenger:\", Passenger.count)\n",
        "p1 = Passenger(\"Jack\")\n",
        "p1.set_bag_weight(90)\n",
        "p2 = Passenger(\"Carol\")\n",
        "p2.set_bag_weight(10)\n",
        "p3 = Passenger(\"Mike\")\n",
        "p3.set_bag_weight(25)\n",
        "print(\"=========================\")\n",
        "p1.printDetail()\n",
        "print(\"=========================\")\n",
        "p2.printDetail()\n",
        "print(\"=========================\")\n",
        "p3.printDetail()\n",
        "print(\"=========================\")\n",
        "print(\"Total Passenger:\", Passenger.count)"
      ],
      "metadata": {
        "colab": {
          "base_uri": "https://localhost:8080/"
        },
        "id": "8kUNBOettVYP",
        "outputId": "5eb11ff8-84d4-4434-eac6-c8c64795450d"
      },
      "execution_count": 2,
      "outputs": [
        {
          "output_type": "stream",
          "name": "stdout",
          "text": [
            "Total Passenger: 0\n",
            "=========================\n",
            "Name: Jack\n",
            "Bus Fare: 550\n",
            "=========================\n",
            "Name: Carol\n",
            "Bus Fare: 450\n",
            "=========================\n",
            "Name: Mike\n",
            "Bus Fare: 500\n",
            "=========================\n",
            "Total Passenger: 3\n"
          ]
        }
      ]
    },
    {
      "cell_type": "code",
      "source": [
        "class Travel:\n",
        "  count = 0\n",
        "  def __init__(self,source,destination):\n",
        "    self.source = source\n",
        "    self.destination = destination\n",
        "    Travel.count += 1\n",
        "    self.time = 1\n",
        "  def set_source(self,source):\n",
        "    self.source = source\n",
        "  def set_destination(self,destination):\n",
        "    self.destination = destination\n",
        "  def set_time(self,time):\n",
        "    self.time += (time - 1)\n",
        "  def display_travel_info(self):\n",
        "    print(f'Source: {self.source}\\nDestination: {self.destination}')\n",
        "    return f'Flight Time: {self.time}:00'\n",
        "\n",
        "print(\"No. of Traveller =\", Travel.count)\n",
        "print(\"=======================\")\n",
        "t1 = Travel(\"Dhaka\",\"India\")\n",
        "print(t1.display_travel_info())\n",
        "print(\"=======================\")\n",
        "t2 = Travel(\"Kuala Lampur\",\"Dhaka\")\n",
        "t2.set_time(23)\n",
        "print(t2.display_travel_info())\n",
        "print(\"=======================\")\n",
        "t3 = Travel(\"Dhaka\",\"New_Zealand\")\n",
        "t3.set_time(15)\n",
        "t3.set_destination(\"Germany\")\n",
        "print(t3.display_travel_info())\n",
        "print(\"=======================\")\n",
        "t4 = Travel(\"Dhaka\",\"India\")\n",
        "t4.set_time(9)\n",
        "t4.set_source(\"Malaysia\")\n",
        "t4.set_destination(\"Canada\")\n",
        "print(t4.display_travel_info())\n",
        "print(\"=======================\")\n",
        "print(\"No. of Traveller =\", Travel.count)"
      ],
      "metadata": {
        "colab": {
          "base_uri": "https://localhost:8080/"
        },
        "id": "PJ4xU5yjtaru",
        "outputId": "75bec36c-36a8-4e8f-8159-9a41b38240d2"
      },
      "execution_count": 3,
      "outputs": [
        {
          "output_type": "stream",
          "name": "stdout",
          "text": [
            "No. of Traveller = 0\n",
            "=======================\n",
            "Source: Dhaka\n",
            "Destination: India\n",
            "Flight Time: 1:00\n",
            "=======================\n",
            "Source: Kuala Lampur\n",
            "Destination: Dhaka\n",
            "Flight Time: 23:00\n",
            "=======================\n",
            "Source: Dhaka\n",
            "Destination: Germany\n",
            "Flight Time: 15:00\n",
            "=======================\n",
            "Source: Malaysia\n",
            "Destination: Canada\n",
            "Flight Time: 9:00\n",
            "=======================\n",
            "No. of Traveller = 4\n"
          ]
        }
      ]
    },
    {
      "cell_type": "code",
      "source": [
        "class Student:\n",
        "  bracu_student = 0\n",
        "  other_student = 0\n",
        "  def __init__(self,name,dept,institute = 'BRAC University'):\n",
        "    self.name = name\n",
        "    self.dept = dept\n",
        "    self.institute = institute\n",
        "    if institute == 'BRAC University':\n",
        "      Student.bracu_student += 1\n",
        "  def individualDetail(self):\n",
        "    print(f'Name: {self.name}\\nDepartment: {self.dept}\\nInstitution: {self.institute}')\n",
        "  @classmethod\n",
        "  def printDetails(cls):\n",
        "    print(f'Total Student(s): {Student.bracu_student + Student.other_student}\\nBRAC University Student(s): {Student.bracu_student}\\nOther Institution Student(s): {Student.other_student}')\n",
        "  @classmethod\n",
        "  def createStudent(cls,name,dept,institute = 'BRAC University'):\n",
        "    if institute != 'BRAC University':\n",
        "      Student.other_student += 1\n",
        "    student = cls(name,dept,institute)\n",
        "    return student\n",
        "\n",
        "Student.printDetails()\n",
        "print('#########################')\n",
        "mikasa = Student('Mikasa Ackerman', \"CSE\")\n",
        "mikasa.individualDetail()\n",
        "print('------------------------------------------')\n",
        "Student.printDetails()\n",
        "print('========================')\n",
        "harry = Student.createStudent('Harry Potter', \"Defence Against Dark Arts\", \"Hogwarts School\")\n",
        "harry.individualDetail()\n",
        "print('-------------------------------------------')\n",
        "Student.printDetails()\n",
        "print('=========================')\n",
        "levi = Student.createStudent(\"Levi Ackerman\", \"CSE\")\n",
        "levi.individualDetail()\n",
        "print('--------------------------------------------')\n",
        "Student.printDetails()"
      ],
      "metadata": {
        "colab": {
          "base_uri": "https://localhost:8080/"
        },
        "id": "Lp0wA1sZtbj_",
        "outputId": "ab9f8924-3dac-4e7b-a3c2-74401130b0d3"
      },
      "execution_count": 4,
      "outputs": [
        {
          "output_type": "stream",
          "name": "stdout",
          "text": [
            "Total Student(s): 0\n",
            "BRAC University Student(s): 0\n",
            "Other Institution Student(s): 0\n",
            "#########################\n",
            "Name: Mikasa Ackerman\n",
            "Department: CSE\n",
            "Institution: BRAC University\n",
            "------------------------------------------\n",
            "Total Student(s): 1\n",
            "BRAC University Student(s): 1\n",
            "Other Institution Student(s): 0\n",
            "========================\n",
            "Name: Harry Potter\n",
            "Department: Defence Against Dark Arts\n",
            "Institution: Hogwarts School\n",
            "-------------------------------------------\n",
            "Total Student(s): 2\n",
            "BRAC University Student(s): 1\n",
            "Other Institution Student(s): 1\n",
            "=========================\n",
            "Name: Levi Ackerman\n",
            "Department: CSE\n",
            "Institution: BRAC University\n",
            "--------------------------------------------\n",
            "Total Student(s): 3\n",
            "BRAC University Student(s): 2\n",
            "Other Institution Student(s): 1\n"
          ]
        }
      ]
    }
  ]
}