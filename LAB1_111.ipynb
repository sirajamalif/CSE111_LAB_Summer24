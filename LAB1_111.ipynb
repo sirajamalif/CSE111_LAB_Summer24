{
  "nbformat": 4,
  "nbformat_minor": 0,
  "metadata": {
    "colab": {
      "provenance": []
    },
    "kernelspec": {
      "name": "python3",
      "display_name": "Python 3"
    },
    "language_info": {
      "name": "python"
    }
  },
  "cells": [
    {
      "cell_type": "code",
      "execution_count": null,
      "metadata": {
        "colab": {
          "base_uri": "https://localhost:8080/"
        },
        "id": "MKH6ngnsZuD1",
        "outputId": "bc914783-337f-47b6-a2c0-d1c0fe570b90"
      },
      "outputs": [
        {
          "output_type": "stream",
          "name": "stdout",
          "text": [
            "10\n",
            "20\n",
            "30\n",
            "20\n",
            "20\n",
            "50\n",
            "10\n",
            "30\n",
            "stop\n",
            "10 = 2 times\n",
            "20 = 3 times\n",
            "30 = 2 times\n",
            "50 = 1 times\n"
          ]
        }
      ],
      "source": [
        "#01:\n",
        "data = []\n",
        "new_data =[]\n",
        "while True:\n",
        "  user = input()\n",
        "  if user == \"stop\":\n",
        "    break\n",
        "  else:\n",
        "    data.append(user)\n",
        "for i in data:\n",
        "  if i not in new_data:\n",
        "    new_data.append(i)\n",
        "for i in new_data:\n",
        "  count = 0\n",
        "  for j in data:\n",
        "    if i == j:\n",
        "      count += 1\n",
        "  print(f\"{i} = {count} times\")\n",
        "\n"
      ]
    },
    {
      "cell_type": "code",
      "source": [
        "#02:\n",
        "list_num = int(input())\n",
        "highest_sum = 0\n",
        "highest_list = []\n",
        "\n",
        "for i in range(list_num):\n",
        "    user = input()\n",
        "    current_list = []\n",
        "    for j in user.split():\n",
        "        current_list.append(int(j))\n",
        "\n",
        "    sum_list = 0\n",
        "    for num in current_list:\n",
        "      sum_list += num\n",
        "\n",
        "\n",
        "    if sum_list > highest_sum:\n",
        "        highest_sum = sum_list\n",
        "        highest_list = current_list\n",
        "\n",
        "print(highest_sum)\n",
        "print(highest_list)\n"
      ],
      "metadata": {
        "colab": {
          "base_uri": "https://localhost:8080/"
        },
        "id": "UZE5owfvLREY",
        "outputId": "7fa34b6f-bd60-45ba-f491-4e6013cdfa51"
      },
      "execution_count": null,
      "outputs": [
        {
          "output_type": "stream",
          "name": "stdout",
          "text": [
            "4\n",
            "1 2 3\n",
            "4 5 6\n",
            "10 11 12\n",
            "7 8 9\n",
            "33\n",
            "[10, 11, 12]\n"
          ]
        }
      ]
    },
    {
      "cell_type": "code",
      "source": [
        "#03:\n",
        "lis1 = [2, 3, 6]\n",
        "lis2 = [3, 4, 5]\n",
        "result = []\n",
        "\n",
        "for i in range(len(lis1)):\n",
        "    for j in range(len(lis2)):\n",
        "      k = lis1[i] * lis2[j]\n",
        "      result.append(k)\n",
        "\n",
        "print(result)\n"
      ],
      "metadata": {
        "colab": {
          "base_uri": "https://localhost:8080/"
        },
        "id": "UinDgT6iMmTB",
        "outputId": "a2d9f6d2-46dc-4261-cb41-69ea8e1e3f0f"
      },
      "execution_count": null,
      "outputs": [
        {
          "output_type": "stream",
          "name": "stdout",
          "text": [
            "[6, 8, 10, 9, 12, 15, 18, 24, 30]\n"
          ]
        }
      ]
    },
    {
      "cell_type": "code",
      "source": [
        "#04:\n",
        "while True:\n",
        "    user_input = input()\n",
        "    if user_input == \"stop\":\n",
        "        break\n",
        "    sequence = []\n",
        "    for i in user_input.split():\n",
        "        sequence.append(int(i))\n",
        "    differences = []\n",
        "    for j in range(len(sequence) - 1):\n",
        "        diff = abs(sequence[j] - sequence[j+1])\n",
        "        if diff not in differences:\n",
        "            differences.append(diff)\n",
        "    if len(differences) == len(sequence) - 1:\n",
        "        print(\"UB Jumper\")\n",
        "    else:\n",
        "        print(\"Not UB Jumper\")\n"
      ],
      "metadata": {
        "colab": {
          "base_uri": "https://localhost:8080/"
        },
        "id": "oljLYli57QlJ",
        "outputId": "c74b43a5-ae88-4f9c-82c4-8cbb1f0bad5e"
      },
      "execution_count": null,
      "outputs": [
        {
          "name": "stdout",
          "output_type": "stream",
          "text": [
            "2 1 4 6 10\n",
            "UB Jumper\n",
            "stop\n"
          ]
        }
      ]
    },
    {
      "cell_type": "code",
      "source": [
        "#05:\n",
        "string = input()\n",
        "\n",
        "lowercase = []\n",
        "for char in string:\n",
        "    if char.isalpha() and char.islower():\n",
        "        lowercase.append(char)\n",
        "\n",
        "uppercase = []\n",
        "for char in string:\n",
        "    if char.isalpha() and char.isupper():\n",
        "        uppercase.append(char)\n",
        "\n",
        "odd_digits = []\n",
        "for char in string:\n",
        "    if char.isdigit() and int(char) % 2 != 0:\n",
        "        odd_digits.append(char)\n",
        "\n",
        "even_digits = []\n",
        "for char in string:\n",
        "    if char.isdigit() and int(char) % 2 == 0:\n",
        "        even_digits.append(char)\n",
        "\n",
        "sorted_string = \"\"\n",
        "for char_list in [lowercase, uppercase, odd_digits, even_digits]:\n",
        "    for char in sorted(char_list):\n",
        "        sorted_string += char\n",
        "print(sorted_string)\n"
      ],
      "metadata": {
        "colab": {
          "base_uri": "https://localhost:8080/"
        },
        "id": "dWoeJnEB9kah",
        "outputId": "659005ad-3ecb-4c74-f384-551cc09c8c0f"
      },
      "execution_count": null,
      "outputs": [
        {
          "output_type": "stream",
          "name": "stdout",
          "text": [
            "Bracu1234\n",
            "acruB1324\n"
          ]
        }
      ]
    },
    {
      "cell_type": "code",
      "source": [
        "#06:\n",
        "user = input().split()\n",
        "n = int(user[0])\n",
        "k = int(user[1])\n",
        "\n",
        "participation_str = input().split()\n",
        "participation = []\n",
        "for i in participation_str:\n",
        "    participation.append(int(i))\n",
        "\n",
        "teams = 0\n",
        "for j in participation:\n",
        "    teams += (j + k <= 5)\n",
        "\n",
        "teams //= 3\n",
        "print(teams)\n",
        "\n",
        "\n"
      ],
      "metadata": {
        "colab": {
          "base_uri": "https://localhost:8080/"
        },
        "id": "de-60EoubbZf",
        "outputId": "044e6313-8c2f-4661-8600-a1360b32a9ce"
      },
      "execution_count": null,
      "outputs": [
        {
          "output_type": "stream",
          "name": "stdout",
          "text": [
            "5 2 \n",
            "0 4 5 1 0 \n",
            "1\n"
          ]
        }
      ]
    },
    {
      "cell_type": "code",
      "source": [
        "#07:\n",
        "dict1 = {'a': 100, 'b': 100, 'c': 200, 'd': 300}\n",
        "dict2 = {'a': 300, 'b': 200, 'd': 400, 'e': 200}\n",
        "\n",
        "c_dict = {}\n",
        "for key in dict1:\n",
        "    if key in dict2:\n",
        "        c_dict[key] = dict1[key] + dict2[key]\n",
        "    else:\n",
        "        c_dict[key] = dict1[key]\n",
        "for key in dict2:\n",
        "    if key not in dict1:\n",
        "        c_dict[key] = dict2[key]\n",
        "\n",
        "print(c_dict)\n",
        "\n",
        "\n",
        "unique_vals = []\n",
        "for v in c_dict.values():\n",
        "    if v not in unique_vals:\n",
        "        unique_vals.append(v)\n",
        "\n",
        "unique_vals.sort()\n",
        "unique_values = tuple(unique_vals)\n",
        "\n",
        "\n",
        "\n",
        "print(\"Values:\", unique_values)\n"
      ],
      "metadata": {
        "colab": {
          "base_uri": "https://localhost:8080/"
        },
        "id": "iwYHjES5kMzs",
        "outputId": "78eb8180-6a80-4be0-f367-2d5b144aecbe"
      },
      "execution_count": null,
      "outputs": [
        {
          "output_type": "stream",
          "name": "stdout",
          "text": [
            "{'a': 400, 'b': 300, 'c': 200, 'd': 700, 'e': 200}\n",
            "Values: (200, 300, 400, 700)\n"
          ]
        }
      ]
    },
    {
      "cell_type": "code",
      "source": [
        "#08:\n",
        "numbers = {}\n",
        "while True:\n",
        "    user = input()\n",
        "    if user == \"stop\":\n",
        "        break\n",
        "    if user in numbers:\n",
        "        numbers[user] += 1\n",
        "    else:\n",
        "        numbers[user] = 1\n",
        "\n",
        "for user, freq in numbers.items():\n",
        "    print(f\"{user} - {freq} times\")\n"
      ],
      "metadata": {
        "colab": {
          "base_uri": "https://localhost:8080/"
        },
        "id": "pDA_p7JTpsxq",
        "outputId": "86c0a77a-e5c5-4d71-b9a9-366388a3c405"
      },
      "execution_count": null,
      "outputs": [
        {
          "output_type": "stream",
          "name": "stdout",
          "text": [
            "10\n",
            "20\n",
            "20\n",
            "stop\n",
            "10 - 1 times\n",
            "20 - 2 times\n"
          ]
        }
      ]
    },
    {
      "cell_type": "code",
      "source": [
        "#09:\n",
        "def invert_dict(input_dict):\n",
        "    inverted_dict = {}\n",
        "    for key, value in input_dict.items():\n",
        "        if value not in inverted_dict:\n",
        "            inverted_dict[value] = [key]\n",
        "        else:\n",
        "            inverted_dict[value].append(key)\n",
        "    return inverted_dict\n",
        "\n",
        "\n",
        "input_dict = {\"key1\": \"value1\", \"key2\": \"value2\", \"key3\": \"value1\"}\n",
        "\n",
        "\n",
        "inverted_dict = invert_dict(input_dict)\n",
        "print(inverted_dict)\n"
      ],
      "metadata": {
        "colab": {
          "base_uri": "https://localhost:8080/"
        },
        "id": "m2nZ3Ax0sDOx",
        "outputId": "0cde35ac-4bc0-4a49-fe50-9efb7058b7e5"
      },
      "execution_count": null,
      "outputs": [
        {
          "output_type": "stream",
          "name": "stdout",
          "text": [
            "{'value1': ['key1', 'key3'], 'value2': ['key2']}\n"
          ]
        }
      ]
    },
    {
      "cell_type": "code",
      "source": [
        "#10:\n",
        "string = input()\n",
        "string_without_spaces = \"\"\n",
        "for char in string:\n",
        "    if char != \" \":\n",
        "        string_without_spaces += char.lower()\n",
        "\n",
        "char_freq = {}\n",
        "for char in string_without_spaces:\n",
        "    if char in char_freq:\n",
        "        char_freq[char] += 1\n",
        "    else:\n",
        "        char_freq[char] = 1\n",
        "\n",
        "print(char_freq)\n"
      ],
      "metadata": {
        "colab": {
          "base_uri": "https://localhost:8080/"
        },
        "id": "J5cCJcLzu6BQ",
        "outputId": "7c941846-2cdc-4054-b95f-741c5defc7e4"
      },
      "execution_count": null,
      "outputs": [
        {
          "output_type": "stream",
          "name": "stdout",
          "text": [
            "Python programming is fun\n",
            "{'p': 2, 'y': 1, 't': 1, 'h': 1, 'o': 2, 'n': 3, 'r': 2, 'g': 2, 'a': 1, 'm': 2, 'i': 2, 's': 1, 'f': 1, 'u': 1}\n"
          ]
        }
      ]
    },
    {
      "cell_type": "code",
      "source": [
        "#11:\n",
        "str1 = input().lower()\n",
        "str2 = input().lower()\n",
        "\n",
        "dict1 = {}\n",
        "dict2 = {}\n",
        "\n",
        "for char in str1:\n",
        "    if char in dict1:\n",
        "        dict1[char] += 1\n",
        "    else:\n",
        "        dict1[char] = 1\n",
        "\n",
        "for char in str2:\n",
        "    if char in dict2:\n",
        "        dict2[char] += 1\n",
        "    else:\n",
        "        dict2[char] = 1\n",
        "\n",
        "if dict1 == dict2:\n",
        "    print(\"Those strings are anagrams.\")\n",
        "else:\n",
        "    print(\"Those strings are not anagrams.\")\n"
      ],
      "metadata": {
        "colab": {
          "base_uri": "https://localhost:8080/"
        },
        "id": "QLT9pu8XwgCQ",
        "outputId": "d957fafc-1ba6-4d5c-a681-529ca7e0b976"
      },
      "execution_count": null,
      "outputs": [
        {
          "output_type": "stream",
          "name": "stdout",
          "text": [
            "corn\n",
            "horn\n",
            "Those strings are not anagrams.\n"
          ]
        }
      ]
    },
    {
      "cell_type": "code",
      "source": [
        "#12:\n",
        "user = input().upper()\n",
        "\n",
        "keys = {\n",
        "    \".,?!:\": \"1\",\n",
        "    \"ABC\": \"2\",\n",
        "    \"DEF\": \"3\",\n",
        "    \"GHI\": \"4\",\n",
        "    \"JKL\": \"5\",\n",
        "    \"MNO\": \"6\",\n",
        "    \"PQRS\": \"7\",\n",
        "    \"TUV\": \"8\",\n",
        "    \"WXYZ\": \"9\",\n",
        "    \" \": \"0\",\n",
        "}\n",
        "\n",
        "presses = \"\"\n",
        "for char in user:\n",
        "    for key, value in keys.items():\n",
        "        if char in key:\n",
        "            repeats = key.index(char) + 1\n",
        "            presses += (value * repeats)\n",
        "            break\n",
        "\n",
        "\n",
        "print(presses)"
      ],
      "metadata": {
        "colab": {
          "base_uri": "https://localhost:8080/"
        },
        "id": "on8cg0ZlNAx7",
        "outputId": "cfc8343b-edaa-4644-9e48-c884c67d88b9"
      },
      "execution_count": null,
      "outputs": [
        {
          "output_type": "stream",
          "name": "stdout",
          "text": [
            "Hello, World!\n",
            "4433555555666110966677755531111\n"
          ]
        }
      ]
    }
  ]
}