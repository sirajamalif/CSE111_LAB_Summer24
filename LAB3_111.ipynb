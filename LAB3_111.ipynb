{
  "nbformat": 4,
  "nbformat_minor": 0,
  "metadata": {
    "colab": {
      "provenance": []
    },
    "kernelspec": {
      "name": "python3",
      "display_name": "Python 3"
    },
    "language_info": {
      "name": "python"
    }
  },
  "cells": [
    {
      "cell_type": "code",
      "execution_count": null,
      "metadata": {
        "colab": {
          "base_uri": "https://localhost:8080/"
        },
        "id": "Z-uwKEpBiHbO",
        "outputId": "b67aefd8-5c3f-4d07-fc89-2b1eb175d86b"
      },
      "outputs": [
        {
          "output_type": "stream",
          "name": "stdout",
          "text": [
            "=====================================\n",
            "User Name: Bilbo\n",
            "Balance: 1\n",
            "Account Type: Savings\n",
            "=====================================\n",
            "User Name: Frodo\n",
            "Balance: 1\n",
            "Account Type: Business\n",
            "=====================================\n"
          ]
        }
      ],
      "source": [
        "class BankAccount:\n",
        "  def __init__(self,user_name,account_type,balance = 1):\n",
        "    self.user_name = user_name\n",
        "    self.account_type = account_type\n",
        "    self.balance = balance\n",
        "\n",
        "account1 = BankAccount(\"Bilbo\", \"Savings\")\n",
        "print(\"=====================================\")\n",
        "print(f\"User Name: {account1.user_name}\")\n",
        "print(f\"Balance: {account1.balance}\")\n",
        "print(f\"Account Type:\", account1.account_type)\n",
        "print(\"=====================================\")\n",
        "account2 = BankAccount(\"Frodo\", \"Business\")\n",
        "print(f\"User Name: {account2.user_name}\")\n",
        "print(f\"Balance: {account2.balance}\")\n",
        "print(f\"Account Type: {account2.account_type}\")\n",
        "print(\"=====================================\")\n",
        "\n"
      ]
    },
    {
      "cell_type": "code",
      "source": [
        "class BankAccount:\n",
        "  def __init__(self,user_name,account_type,balance = 1):\n",
        "    self.user_name = user_name\n",
        "    self.account_type = account_type\n",
        "    self.balance = balance\n",
        "    print(f\"New account balance of {self.user_name} is {self.balance}\")\n",
        "\n",
        "\n",
        "account1 = BankAccount(\"Bilbo\", \"Savings\",15.75)\n",
        "account2 = BankAccount(\"Frodo\", \"Business\",700.50)\n"
      ],
      "metadata": {
        "colab": {
          "base_uri": "https://localhost:8080/"
        },
        "id": "i024TeJsj9_x",
        "outputId": "5df43983-0522-4193-abc3-e541b0950ffa"
      },
      "execution_count": null,
      "outputs": [
        {
          "output_type": "stream",
          "name": "stdout",
          "text": [
            "New account balance of Bilbo is 15.75\n",
            "New account balance of Frodo is 700.5\n"
          ]
        }
      ]
    },
    {
      "cell_type": "code",
      "source": [
        "class MangoTree:\n",
        "  def __init__(self,variety,height=1,number_of_mangoes=0):\n",
        "    self.variety = variety\n",
        "    self.height = height\n",
        "    self.number_of_mangoes = number_of_mangoes\n",
        "# Driver code\n",
        "mangoTree1= MangoTree(\"Gopalbhog\")\n",
        "# Display the details of the mango tree\n",
        "print(\"=====================================\")\n",
        "print(\"Mango Tree Details:\")\n",
        "print(f\"Variety: {mangoTree1.variety}\")\n",
        "print(f\"Height: {mangoTree1.height} meter(s)\")\n",
        "print(f\"Number of mangoes on the tree: {mangoTree1.number_of_mangoes}\")\n",
        "print(\"=====================================\")\n",
        "mangoTree2= MangoTree(\"Amrapali\")\n",
        "# Display the details of the mango tree\n",
        "print(\"Mango Tree Details:\")\n",
        "print(f\"Variety: {mangoTree2.variety}\")\n",
        "print(f\"Height: {mangoTree2.height} meter(s)\")\n",
        "print(f\"Number of mangoes on the tree: {mangoTree2.number_of_mangoes}\")\n",
        "print(\"=====================================\")\n"
      ],
      "metadata": {
        "colab": {
          "base_uri": "https://localhost:8080/"
        },
        "id": "8bDGqSuUlYzw",
        "outputId": "4c9ea8b9-c4ab-482d-fcc4-38ca831bdc9c"
      },
      "execution_count": null,
      "outputs": [
        {
          "output_type": "stream",
          "name": "stdout",
          "text": [
            "=====================================\n",
            "Mango Tree Details:\n",
            "Variety: Gopalbhog\n",
            "Height: 1 meter(s)\n",
            "Number of mangoes on the tree: 0\n",
            "=====================================\n",
            "Mango Tree Details:\n",
            "Variety: Amrapali\n",
            "Height: 1 meter(s)\n",
            "Number of mangoes on the tree: 0\n",
            "=====================================\n"
          ]
        }
      ]
    },
    {
      "cell_type": "code",
      "source": [
        "class MangoTree:\n",
        "  def __init__(self,variety,height=1,number_of_mangoes=1,year=5):\n",
        "    self.variety = variety\n",
        "    self.height = height\n",
        "    self.number_of_mangoes = number_of_mangoes\n",
        "    self.year = year\n",
        "    if self.variety == \"Gopalbhog\" or self.variety == \"Amrapali\":\n",
        "      self.height = (3*self.height*self.year) + self.height\n",
        "    if self.variety == \"Gopalbhog\":\n",
        "      self.number_of_mangoes = self.number_of_mangoes * 10 * self.height\n",
        "    elif self.variety == \"Amrapali\":\n",
        "      self.number_of_mangoes = self.number_of_mangoes * 15 * self.height\n",
        "# Driver code\n",
        "mangoTree1= MangoTree(\"Gopalbhog\")\n",
        "# Display the details of the mango tree\n",
        "print(\"Updated details after 5 years:\")\n",
        "print(\"=====================================\")\n",
        "print(f\"Variety: {mangoTree1.variety}\")\n",
        "print(f\"Height: {mangoTree1.height} meter(s)\")\n",
        "print(f\"Number of mangoes on the tree: {mangoTree1.number_of_mangoes}\")\n",
        "print(\"=====================================\")\n",
        "mangoTree2= MangoTree(\"Amrapali\")\n",
        "# Display the details of the mango tree\n",
        "print(f\"Variety: {mangoTree2.variety}\")\n",
        "print(f\"Height: {mangoTree2.height} meter(s)\")\n",
        "print(f\"Number of mangoes on the tree: {mangoTree2.number_of_mangoes}\")\n",
        "print(\"=====================================\")"
      ],
      "metadata": {
        "colab": {
          "base_uri": "https://localhost:8080/"
        },
        "id": "ZjU2k9lVmdBR",
        "outputId": "f78c3e25-30cd-4552-cbaf-73db9a4c991a"
      },
      "execution_count": null,
      "outputs": [
        {
          "output_type": "stream",
          "name": "stdout",
          "text": [
            "Updated details after 5 years:\n",
            "=====================================\n",
            "Variety: Gopalbhog\n",
            "Height: 16 meter(s)\n",
            "Number of mangoes on the tree: 160\n",
            "=====================================\n",
            "Variety: Amrapali\n",
            "Height: 16 meter(s)\n",
            "Number of mangoes on the tree: 240\n",
            "=====================================\n"
          ]
        }
      ]
    },
    {
      "cell_type": "code",
      "source": [
        "class Contacts:\n",
        "  def __init__(self,names,numbers):\n",
        "    self.names = names\n",
        "    self.numbers = numbers\n",
        "\n",
        "    self.contactDict = {}\n",
        "\n",
        "    if len(names) == len(numbers):\n",
        "      for i in range(len(names)):\n",
        "        self.contactDict[names[i]] = numbers[i]\n",
        "      print(\"Contacts saved successfully.\")\n",
        "    else:\n",
        "        print(\"Contacts cannot be saved. Length Mismatch!\")\n",
        "\n",
        "# Driver code\n",
        "names = [\"Emergency\", \"Father\", \"Bestie\"]\n",
        "numbers = [\"999\", \"01xx23\", \"01xx87\", \"01xx65\", \"01xx43\"]\n",
        "\n",
        "m1 = Contacts(names, numbers)\n",
        "print(\"Saved Contacts:\", m1.contactDict)\n",
        "print(\"---------------------------------------------\")\n",
        "\n",
        "names.append(\"Mother\")\n",
        "numbers.pop()\n",
        "\n",
        "m2 = Contacts(names, numbers)\n",
        "print(\"Saved Contacts:\", m2.contactDict)\n"
      ],
      "metadata": {
        "colab": {
          "base_uri": "https://localhost:8080/"
        },
        "id": "ytbq8aJto-G6",
        "outputId": "5f6e6854-b1c8-477c-b6b1-3de1ad17e99b"
      },
      "execution_count": null,
      "outputs": [
        {
          "output_type": "stream",
          "name": "stdout",
          "text": [
            "Contacts cannot be saved. Length Mismatch!\n",
            "Saved Contacts: {}\n",
            "---------------------------------------------\n",
            "Contacts saved successfully.\n",
            "Saved Contacts: {'Emergency': '999', 'Father': '01xx23', 'Bestie': '01xx87', 'Mother': '01xx65'}\n"
          ]
        }
      ]
    },
    {
      "cell_type": "code",
      "source": [
        "class Student:\n",
        "    def __init__(self,name,cgpa,courses_taken,student_status=None,advising_status=None):\n",
        "        self.name = name\n",
        "        self.cgpa = cgpa\n",
        "        self.courses_taken = courses_taken\n",
        "        self.student_status = student_status\n",
        "        self.advising_status = advising_status\n",
        "\n",
        "        if self.cgpa < 2:\n",
        "            self.student_status = \"Probation\"\n",
        "            if self.student_status == \"Probation\":\n",
        "                if self.courses_taken == 1 or self.courses_taken == 2:\n",
        "                    self.advising_status = \"Approved\"\n",
        "                    print(f\"Study hard this time,{self.name}.\")\n",
        "                else:\n",
        "                  self.advising_status = \"Denied\"\n",
        "                  print(f\"Sorry, {self.name}, you are on probation and cannot take more than 2 courses.\")\n",
        "\n",
        "        elif self.cgpa >= 2:\n",
        "            self.student_status = \"Regular\"\n",
        "            if self.student_status == \"Regular\":\n",
        "                if self.courses_taken == 3 or self.courses_taken == 4 or self.courses_taken == 5:\n",
        "                    self.advising_status = \"Approved\"\n",
        "                    print(f\"All the best, {self.name}, for the upcoming semester.\")\n",
        "                else:\n",
        "                  self.advising_status = \"Denied\"\n",
        "                  print(f\"Hello {self.name}, You are a regular student and have to take between 3 to 5 courses.\")\n",
        "\n",
        "        if self.advising_status == \"Denied\":\n",
        "          self.courses_taken = 0\n",
        "\n",
        "\n",
        "\n",
        "\n",
        "\n",
        "# Driver code\n",
        "s1 = Student(\"Clark\", 3.45, 4)\n",
        "print(f\"Name: {s1.name}\\nCGPA: {s1.cgpa}\\nCourses Taken: {s1.courses_taken}\")\n",
        "print(f\"Student Status: {s1.student_status}\\nAdvising Status: {s1.advising_status}\")\n",
        "print(\"--------------------------------------------------------------------------------\")\n",
        "s2 = Student(\"Barry\", 1.93, 2)\n",
        "print(f\"Name: {s2.name}\")\n",
        "print(f\"Student Status: {s2.student_status}\\nAdvising Status: {s2.advising_status}\")\n",
        "print(\"--------------------------------------------------------------------------------\")\n",
        "s3 = Student(\"Diana\", 2.91, 2)\n",
        "print(f\"Advising Status: {s3.advising_status}\\nCourses Taken: {s3.courses_taken}\")\n",
        "print(\"--------------------------------------------------------------------------------\")\n",
        "s4 = Student(\"Bruce\", 1.52, 5)\n",
        "print(f\"Advising Status: {s4.advising_status}\\nCourses Taken: {s4.courses_taken}\")\n"
      ],
      "metadata": {
        "colab": {
          "base_uri": "https://localhost:8080/"
        },
        "id": "r59oyubTrpSj",
        "outputId": "732e8d3f-c6c0-4d55-c620-bb40015e0287"
      },
      "execution_count": null,
      "outputs": [
        {
          "output_type": "stream",
          "name": "stdout",
          "text": [
            "All the best, Clark, for the upcoming semester.\n",
            "Name: Clark\n",
            "CGPA: 3.45\n",
            "Courses Taken: 4\n",
            "Student Status: Regular\n",
            "Advising Status: Approved\n",
            "--------------------------------------------------------------------------------\n",
            "Study hard this time,Barry.\n",
            "Name: Barry\n",
            "Student Status: Probation\n",
            "Advising Status: Approved\n",
            "--------------------------------------------------------------------------------\n",
            "Hello Diana, You are a regular student and have to take between 3 to 5 courses.\n",
            "Advising Status: Denied\n",
            "Courses Taken: 0\n",
            "--------------------------------------------------------------------------------\n",
            "Sorry, Bruce, you are on probation and cannot take more than 2 courses.\n",
            "Advising Status: Denied\n",
            "Courses Taken: 0\n"
          ]
        }
      ]
    },
    {
      "cell_type": "code",
      "source": [
        "class CellPackage:\n",
        "    def __init__(self, price, data, talk_time, messages, cashback, validity):\n",
        "        self.price = int(price)\n",
        "\n",
        "        data_value = int(data.split(' ')[0])\n",
        "        if data_value != 0:\n",
        "            self.data = data_value * 1024\n",
        "        else:\n",
        "            self.data = 0\n",
        "\n",
        "        talk_time_value = int(talk_time)\n",
        "        if talk_time_value != 0:\n",
        "            self.talk_time = talk_time_value\n",
        "        else:\n",
        "            self.talk_time = 0\n",
        "\n",
        "        messages_value = int(messages)\n",
        "        if messages_value != 0:\n",
        "            self.messages = messages_value\n",
        "        else:\n",
        "            self.messages = 0\n",
        "\n",
        "        cashback_value = int(cashback.split('%')[0])\n",
        "        if cashback_value != 0:\n",
        "            self.cashback = cashback_value\n",
        "        else:\n",
        "            self.cashback = 0\n",
        "\n",
        "        self.validity = int(validity)\n",
        "\n",
        "    def display_info(self):\n",
        "        if self.data != 0:\n",
        "            print(f\"Data = {self.data} MB\")\n",
        "        if self.talk_time != 0:\n",
        "            print(f\"Talktime = {self.talk_time} Minutes\")\n",
        "        if self.messages != 0:\n",
        "            print(f\"SMS/MMS = {self.messages}\")\n",
        "        print(f\"Validity = {self.validity} Days\")\n",
        "        print(f\"--> Price = {self.price} tk\")\n",
        "        if self.cashback != 0:\n",
        "            print(f\"Buy now to get {int(self.price * self.cashback * (1/100))} tk cashback.\")\n",
        "\n",
        "# Driver Code\n",
        "pkg1 = CellPackage(150, '6 GB', 99, 20, '7%', 7)\n",
        "print('===========Package 1=============')\n",
        "pkg1.display_info()\n",
        "\n",
        "pkg2 = CellPackage(700, '35 GB', 700, 0, '10%', 30)\n",
        "print('===========Package 2=============')\n",
        "pkg2.display_info()\n",
        "\n",
        "pkg3 = CellPackage(120, '0 GB', 190, 0, '0%', 10)\n",
        "print('============Package 3============')\n",
        "pkg3.display_info()\n",
        "\n",
        "\n"
      ],
      "metadata": {
        "colab": {
          "base_uri": "https://localhost:8080/"
        },
        "id": "lGYkRjRXPAQe",
        "outputId": "f47183d3-fa9d-44cd-d05e-9c9a5c959dd0"
      },
      "execution_count": null,
      "outputs": [
        {
          "output_type": "stream",
          "name": "stdout",
          "text": [
            "===========Package 1=============\n",
            "Data = 6144 MB\n",
            "Talktime = 99 Minutes\n",
            "SMS/MMS = 20\n",
            "Validity = 7 Days\n",
            "--> Price = 150 tk\n",
            "Buy now to get 10 tk cashback.\n",
            "===========Package 2=============\n",
            "Data = 35840 MB\n",
            "Talktime = 700 Minutes\n",
            "Validity = 30 Days\n",
            "--> Price = 700 tk\n",
            "Buy now to get 70 tk cashback.\n",
            "============Package 3============\n",
            "Talktime = 190 Minutes\n",
            "Validity = 10 Days\n",
            "--> Price = 120 tk\n"
          ]
        }
      ]
    },
    {
      "cell_type": "code",
      "source": [
        "#TRACING\n",
        "\n",
        "class Human:\n",
        "    def __init__(self):\n",
        "        self.age = 0\n",
        "        self.height = 0.0\n",
        "\n",
        "\n",
        "h1 = Human()\n",
        "h2 = Human()\n",
        "h1.age = 21\n",
        "h1.height = 5.5\n",
        "print(h1.age)\n",
        "print(h1.height)\n",
        "h2.height = h1.height - 3\n",
        "print(h2.height)\n",
        "h2.age = h1.age\n",
        "h1.age += h1.age\n",
        "print(h1.age)\n",
        "h2 = h1\n",
        "print(h2.age)\n",
        "print(h2.height)\n",
        "h1.age += h1.age\n",
        "h2.height += h2.height\n",
        "print(h1.age)\n",
        "print(h1.height)\n",
        "h2.age += h2.age\n",
        "h1.age = h2.age\n",
        "print(h2.age)\n",
        "\n"
      ],
      "metadata": {
        "colab": {
          "base_uri": "https://localhost:8080/"
        },
        "id": "ZtZflz5j0HB_",
        "outputId": "2b4417f3-868a-45e7-c03e-52108f7308eb"
      },
      "execution_count": null,
      "outputs": [
        {
          "output_type": "stream",
          "name": "stdout",
          "text": [
            "21\n",
            "5.5\n",
            "2.5\n",
            "42\n",
            "42\n",
            "5.5\n",
            "84\n",
            "11.0\n",
            "168\n"
          ]
        }
      ]
    },
    {
      "cell_type": "code",
      "source": [
        "###############################################\n",
        "\n",
        "#Home Tasks\n",
        "\n",
        "###############################################"
      ],
      "metadata": {
        "id": "0l08_-6sk-DY"
      },
      "execution_count": null,
      "outputs": []
    },
    {
      "cell_type": "code",
      "source": [
        "import datetime\n",
        "today = datetime.date.today()\n",
        "year = today.year\n",
        "class Book:\n",
        "  def __init__(self,name,author,year_of_publication,status=None):\n",
        "    self.name = name\n",
        "    self.author = author\n",
        "    self.year_of_publication = year_of_publication\n",
        "    self.status = status\n",
        "    print(\"Checking the book.\")\n",
        "\n",
        "    if year - self.year_of_publication <= 100:\n",
        "      self.status = \"Rejected. The book is not antique enough.\"\n",
        "    elif year - self.year_of_publication < 200 and year - self.year_of_publication>100:\n",
        "      self.status = \"Accepted. The book is stored on floor: 0.\"\n",
        "    elif year - self.year_of_publication < 400 and year - self.year_of_publication>=200 :\n",
        "      self.status = \"Accepted. The book is stored on floor: 1.\"\n",
        "    else:\n",
        "      self.status = \"Accepted. The book is stored on floor: 2.\"\n",
        "\n",
        "\n",
        "#Driver Code\n",
        "book1= Book('The Act', 'Ferguson', 1924)\n",
        "print(f\"{book1.author} wrote the book '{book1.name}'.\")\n",
        "print(f\"This book was published in {book1.year_of_publication}.\")\n",
        "print(f\"This book is {book1.status}\")\n",
        "print(\"-------------------------------------\")\n",
        "book2= Book('Flame', 'Nolan', 1932)\n",
        "print(f\"{book2.author} wrote the book '{book2.name}'.\")\n",
        "print(f\"This book was published in {book2.year_of_publication}.\")\n",
        "print(f\"This book is {book2.status}\")\n",
        "print(\"-------------------------------------\")\n",
        "book3= Book('Norms', 'Alfred', 1832)\n",
        "print(f\"{book3.author} wrote the book '{book3.name}'.\")\n",
        "print(f\"This book was published in {book3.year_of_publication}.\")\n",
        "print(f\"This book is {book3.status}\")\n",
        "print(\"-------------------------------------\")\n",
        "book4= Book('Apex', 'Samson', 1923)\n",
        "print(f\"{book4.author} wrote the book '{book4.name}'.\")\n",
        "print(f\"This book was published in {book4.year_of_publication}.\")\n",
        "print(f\"This book is {book4.status}\")\n",
        "print(\"-------------------------------------\")\n",
        "book5= Book('Habitat', 'Eden', 1723)\n",
        "print(f\"{book5.author} wrote the book '{book5.name}'.\")\n",
        "print(f\"This book was published in {book5.year_of_publication}.\")\n",
        "print(f\"This book is {book5.status}\")\n",
        "print(\"-------------------------------------\")\n",
        "book6= Book('Apocalypto', 'Menez', 1603)\n",
        "print(f\"{book6.author} wrote the book '{book6.name}'.\")\n",
        "print(f\"This book was published in {book6.year_of_publication}.\")\n",
        "print(f\"This book is {book6.status}\")"
      ],
      "metadata": {
        "colab": {
          "base_uri": "https://localhost:8080/"
        },
        "id": "5cUcNtolO-cr",
        "outputId": "b41efc7f-c11d-45eb-9395-b0e4ad8c6b47"
      },
      "execution_count": null,
      "outputs": [
        {
          "output_type": "stream",
          "name": "stdout",
          "text": [
            "Checking the book.\n",
            "Ferguson wrote the book 'The Act'.\n",
            "This book was published in 1924.\n",
            "This book is Rejected. The book is not antique enough.\n",
            "-------------------------------------\n",
            "Checking the book.\n",
            "Nolan wrote the book 'Flame'.\n",
            "This book was published in 1932.\n",
            "This book is Rejected. The book is not antique enough.\n",
            "-------------------------------------\n",
            "Checking the book.\n",
            "Alfred wrote the book 'Norms'.\n",
            "This book was published in 1832.\n",
            "This book is Accepted. The book is stored on floor: 0.\n",
            "-------------------------------------\n",
            "Checking the book.\n",
            "Samson wrote the book 'Apex'.\n",
            "This book was published in 1923.\n",
            "This book is Accepted. The book is stored on floor: 0.\n",
            "-------------------------------------\n",
            "Checking the book.\n",
            "Eden wrote the book 'Habitat'.\n",
            "This book was published in 1723.\n",
            "This book is Accepted. The book is stored on floor: 1.\n",
            "-------------------------------------\n",
            "Checking the book.\n",
            "Menez wrote the book 'Apocalypto'.\n",
            "This book was published in 1603.\n",
            "This book is Accepted. The book is stored on floor: 2.\n"
          ]
        }
      ]
    },
    {
      "cell_type": "code",
      "source": [
        "class Pokemon:\n",
        "  def __init__(self,pokemon1_name,pokemon2_name,pokemon1_power,pokemon2_power,damage_rate):\n",
        "    self.pokemon1_name = pokemon1_name\n",
        "    self.pokemon2_name = pokemon2_name\n",
        "    self.pokemon1_power = pokemon1_power\n",
        "    self.pokemon2_power = pokemon2_power\n",
        "    self.damage_rate = damage_rate\n",
        "\n",
        "team_pika = Pokemon('pikachu', 'charmander', 90, 60, 10)\n",
        "print('=======Team 1=======')\n",
        "print('Pokemon 1:',team_pika.pokemon1_name, team_pika.pokemon1_power)\n",
        "print('Pokemon 2:',team_pika.pokemon2_name, team_pika.pokemon2_power)\n",
        "pika_combined_power = (team_pika.pokemon1_power + team_pika.pokemon2_power) * team_pika.damage_rate\n",
        "print('Combined Power:', pika_combined_power)\n",
        "\n",
        "team_bulb = Pokemon('bulbasaur', 'squirtle', 80, 70, 9)\n",
        "print('=======Team 2=======')\n",
        "print('Pokemon 1:',team_bulb.pokemon1_name, team_bulb.pokemon1_power)\n",
        "print('Pokemon 2:',team_bulb.pokemon2_name, team_bulb.pokemon2_power)\n",
        "bulb_combined_power = (team_bulb.pokemon1_power + team_bulb.pokemon2_power) * team_bulb.damage_rate\n",
        "print('Combined Power:', bulb_combined_power)"
      ],
      "metadata": {
        "colab": {
          "base_uri": "https://localhost:8080/"
        },
        "id": "iYMr58kcbyyk",
        "outputId": "00d30e16-1ca4-4f80-9757-5b3e5ab25056"
      },
      "execution_count": null,
      "outputs": [
        {
          "output_type": "stream",
          "name": "stdout",
          "text": [
            "=======Team 1=======\n",
            "Pokemon 1: pikachu 90\n",
            "Pokemon 2: charmander 60\n",
            "Combined Power: 1500\n",
            "=======Team 2=======\n",
            "Pokemon 1: bulbasaur 80\n",
            "Pokemon 2: squirtle 70\n",
            "Combined Power: 1350\n"
          ]
        }
      ]
    },
    {
      "cell_type": "code",
      "source": [
        "class box:\n",
        "  def __init__(self,data):\n",
        "    self.height = data[0]\n",
        "    self.width = data[1]\n",
        "    self.breadth = data[2]\n",
        "    print(\"Creating a Box!\")\n",
        "\n",
        "print(\"Box 1\")\n",
        "b1 = box([10,10,10])\n",
        "print(\"=========================\")\n",
        "print(\"Height:\", b1.height)\n",
        "print(\"Width:\", b1.width)\n",
        "print(\"Breadth:\", b1.breadth)\n",
        "volume = b1.height * b1.width * b1.breadth\n",
        "print(f\"Volume of the box is {volume} cubic units.\")\n",
        "print(\"-------------------------\")\n",
        "print(\"Box 2\")\n",
        "b2 = box((30,10,10))\n",
        "print(\"=========================\")\n",
        "print(\"Height:\", b2.height)\n",
        "print(\"Width:\", b2.width)\n",
        "print(\"Breadth:\", b2.breadth)\n",
        "volume = b2.height * b2.width * b2.breadth\n",
        "print(f\"Volume of the box is {volume} cubic units.\")\n",
        "b2.height = 300\n",
        "print(\"Updating Box 2!\")\n",
        "print(\"Height:\", b2.height)\n",
        "print(\"Width:\", b2.width)\n",
        "print(\"Breadth:\", b2.breadth)\n",
        "volume = b2.height * b2.width * b2.breadth\n",
        "print(f\"Volume of the box is {volume} cubic units.\")\n",
        "print(\"-------------------------\")\n",
        "print(\"Box 3\")\n",
        "b3 = b2\n",
        "print(\"Height:\", b3.height)\n",
        "print(\"Width:\", b3.width)\n",
        "print(\"Breadth:\", b3.breadth)\n",
        "volume = b3.height * b3.width * b3.breadth\n",
        "print(f\"Volume of the box is {volume} cubic units.\")\n",
        "\n",
        "########## PART B ##########\n",
        "one = (b3 == b2)\n",
        "\n",
        "b3.width = 100\n",
        "two = (b3 == b2)\n",
        "print(one)\n",
        "print(hex(id(one)))\n",
        "print(two)\n",
        "print(hex(id(two)))\n",
        "print(b2.width)"
      ],
      "metadata": {
        "colab": {
          "base_uri": "https://localhost:8080/"
        },
        "id": "Y7hlYs7kf9X2",
        "outputId": "de9ae96d-8129-4ca6-9a2e-281e8c9bcd77"
      },
      "execution_count": null,
      "outputs": [
        {
          "output_type": "stream",
          "name": "stdout",
          "text": [
            "Box 1\n",
            "Creating a Box!\n",
            "=========================\n",
            "Height: 10\n",
            "Width: 10\n",
            "Breadth: 10\n",
            "Volume of the box is 1000 cubic units.\n",
            "-------------------------\n",
            "Box 2\n",
            "Creating a Box!\n",
            "=========================\n",
            "Height: 30\n",
            "Width: 10\n",
            "Breadth: 10\n",
            "Volume of the box is 3000 cubic units.\n",
            "Updating Box 2!\n",
            "Height: 300\n",
            "Width: 10\n",
            "Breadth: 10\n",
            "Volume of the box is 30000 cubic units.\n",
            "-------------------------\n",
            "Box 3\n",
            "Height: 300\n",
            "Width: 10\n",
            "Breadth: 10\n",
            "Volume of the box is 30000 cubic units.\n",
            "True\n",
            "0x5cfcdbd9f420\n",
            "True\n",
            "0x5cfcdbd9f420\n",
            "100\n"
          ]
        }
      ]
    },
    {
      "cell_type": "code",
      "source": [
        "class Order:\n",
        "    def __init__(self, menu, order_string,items=None):\n",
        "        self.menu = menu\n",
        "        self.order_string = order_string\n",
        "        self.items = items\n",
        "        self.items = []\n",
        "        total_price = 0\n",
        "\n",
        "        items_list = self.order_string.split(', ')\n",
        "\n",
        "        for item_info in items_list:\n",
        "            item, quantity = item_info.split('-')\n",
        "            price = self.menu[item] * int(quantity)\n",
        "            total_price += price\n",
        "            # self.items.extend([item, quantity, price])\n",
        "            self.items.append(item)\n",
        "            self.items.append(int(quantity))\n",
        "            self.items.append(price)\n",
        "\n",
        "\n",
        "\n",
        "# Driver code\n",
        "menu = {\n",
        "    'Chicken_Cheeseburger': 249,\n",
        "    'Mega_Cheeseburger': 289,\n",
        "    'Fries': 139,\n",
        "    'Hot_Wings': 99,\n",
        "    'Rice_Bowl': 299,\n",
        "    'Soft_Drinks': 50\n",
        "}\n",
        "\n",
        "order1 = Order(menu, \"Chicken_Cheeseburger-2, Fries-3, Soft_Drinks-3\")\n",
        "print(order1.items)\n",
        "print()\n",
        "\n",
        "print('-'*35)\n",
        "print('Item           x Quantity :   Price')\n",
        "print('--------------   --------   -------')\n",
        "\n",
        "index = 0\n",
        "total = 0\n",
        "while index < len(order1.items) - 1:\n",
        "    item = order1.items[index]\n",
        "    quantity = order1.items[index + 1]\n",
        "    price = order1.items[index + 2]\n",
        "\n",
        "    print(f'{item:20} x {quantity:2} : {price:7.2f}')\n",
        "    total += price\n",
        "    index += 3  # Going to the next item\n",
        "\n",
        "print('-'*35)\n",
        "print(f'Total:                      {total:7.2f}')\n",
        "print('-'*35)\n"
      ],
      "metadata": {
        "colab": {
          "base_uri": "https://localhost:8080/"
        },
        "id": "ATW7AvH6gexU",
        "outputId": "ece82f19-1013-4fa0-ad31-6332a926672b"
      },
      "execution_count": null,
      "outputs": [
        {
          "output_type": "stream",
          "name": "stdout",
          "text": [
            "['Chicken_Cheeseburger', 2, 498, 'Fries', 3, 417, 'Soft_Drinks', 3, 150]\n",
            "\n",
            "-----------------------------------\n",
            "Item           x Quantity :   Price\n",
            "--------------   --------   -------\n",
            "Chicken_Cheeseburger x  2 :  498.00\n",
            "Fries                x  3 :  417.00\n",
            "Soft_Drinks          x  3 :  150.00\n",
            "-----------------------------------\n",
            "Total:                      1065.00\n",
            "-----------------------------------\n"
          ]
        }
      ]
    },
    {
      "cell_type": "code",
      "source": [
        "#TRACING\n",
        "\n",
        "class Student:\n",
        "    def __init__(self):\n",
        "        self.name = None\n",
        "        self.cgpa = 0.0\n",
        "s1 = Student()\n",
        "s2 = Student()\n",
        "s3 = None\n",
        "s1.name = \"Student One\"\n",
        "s1.cgpa = 2.3\n",
        "s3 = s1\n",
        "s2.name = \"Student Two\"\n",
        "s2.cgpa = s3.cgpa + 1\n",
        "s3.name = \"New Student\"\n",
        "print(s1.name)\n",
        "print(s2.name)\n",
        "print(s3.name)\n",
        "print(s1.cgpa)\n",
        "print(s2.cgpa)\n",
        "print(s3.cgpa)\n",
        "s3 = s2\n",
        "s1.name = \"old student\"\n",
        "s2.name = \"older student\"\n",
        "s3.name = \"oldest student\"\n",
        "s2.cgpa = s1.cgpa - s3.cgpa + 4.5\n",
        "print(s1.name)\n",
        "print(s2.name)\n",
        "print(s3.name)\n",
        "print(s1.cgpa)\n",
        "print(s2.cgpa)\n",
        "print(s3.cgpa)\n",
        "\n"
      ],
      "metadata": {
        "colab": {
          "base_uri": "https://localhost:8080/"
        },
        "id": "el-quhlJ5Z2N",
        "outputId": "6ccad99d-2fa9-4dbf-a559-01fde682853e"
      },
      "execution_count": null,
      "outputs": [
        {
          "output_type": "stream",
          "name": "stdout",
          "text": [
            "New Student\n",
            "Student Two\n",
            "New Student\n",
            "2.3\n",
            "3.3\n",
            "2.3\n",
            "old student\n",
            "oldest student\n",
            "oldest student\n",
            "2.3\n",
            "3.5\n",
            "3.5\n"
          ]
        }
      ]
    }
  ]
}