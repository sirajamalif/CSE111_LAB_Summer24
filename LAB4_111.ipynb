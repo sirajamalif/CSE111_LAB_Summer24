{
  "nbformat": 4,
  "nbformat_minor": 0,
  "metadata": {
    "colab": {
      "provenance": []
    },
    "kernelspec": {
      "name": "python3",
      "display_name": "Python 3"
    },
    "language_info": {
      "name": "python"
    }
  },
  "cells": [
    {
      "cell_type": "code",
      "execution_count": null,
      "metadata": {
        "id": "vG0Hxvasexty",
        "colab": {
          "base_uri": "https://localhost:8080/"
        },
        "outputId": "a235540c-de80-4240-b3eb-3c74509320be"
      },
      "outputs": [
        {
          "output_type": "stream",
          "name": "stdout",
          "text": [
            "1-------------------------\n",
            "Welcome to ABC Memorial Park\n",
            "2-------------------------\n",
            "Successfully purchased a ticket for Bob!\n",
            "Successfully purchased a ticket for Henry!\n",
            "Successfully purchased a ticket for Alexa!\n",
            "You can't buy more than 3 tickets\n",
            "3-------------------------\n",
            "Amount of tickets: 3\n",
            "Total price: 250 Taka \n",
            "4-------------------------\n",
            "Welcome to ABC Memorial Park\n",
            "5-------------------------\n",
            "Successfully purchased a ticket for Harry!\n",
            "Successfully purchased a ticket for Tomas!\n",
            "6-------------------------\n",
            "Amount of tickets: 2\n",
            "Total price: 200 Taka \n"
          ]
        }
      ],
      "source": [
        "class Customer:\n",
        "  def __init__(self):       # no Parameterized Constructor\n",
        "    print(\"Welcome to ABC Memorial Park\")\n",
        "\n",
        "    self.count = 0\n",
        "    self.price = 0\n",
        "  def buyTicket(self,name,age):\n",
        "    if self.count < 3:\n",
        "      self.count += 1\n",
        "      print(f\"Successfully purchased a ticket for {name}!\")\n",
        "      if age > 10:\n",
        "        self.price += 100\n",
        "      else:\n",
        "        self.price += 50\n",
        "    else:\n",
        "      print(\"You can't buy more than 3 tickets\")\n",
        "\n",
        "  def showDetails(self):\n",
        "    print(f\"Amount of tickets: {self.count}\")\n",
        "    print(f\"Total price: {self.price} Taka \")\n",
        "\n",
        "print('1-------------------------')\n",
        "customer1 = Customer()\n",
        "print('2-------------------------')\n",
        "customer1.buyTicket('Bob', 23)\n",
        "customer1.buyTicket('Henry', 7)\n",
        "customer1.buyTicket('Alexa', 30)\n",
        "customer1.buyTicket('Jonas', 43)\n",
        "print('3-------------------------')\n",
        "customer1.showDetails()\n",
        "print('4-------------------------')\n",
        "customer2 = Customer()\n",
        "print('5-------------------------')\n",
        "customer2.buyTicket('Harry', 60)\n",
        "customer2.buyTicket('Tomas', 28)\n",
        "print('6-------------------------')\n",
        "customer2.showDetails()\n"
      ]
    },
    {
      "cell_type": "code",
      "source": [
        "class Panda:\n",
        "  def __init__(self,name,gender,age):\n",
        "    self.name = name\n",
        "    self.gender = gender\n",
        "    self.age = age\n",
        "\n",
        "  def sleep(self,hours):\n",
        "    self.hours = hours\n",
        "    if 3<=self.hours<=5:\n",
        "      return f\"{self.name} sleeps {self.hours} hours daily and should have Mixed Veggies\"\n",
        "    elif 6<=self.hours<=8:\n",
        "      return f\"{self.name} sleeps {self.hours} hours daily and should have eggplant & tofu\"\n",
        "    elif 9<=self.hours<=11:\n",
        "      return f\"{self.name} sleeps {self.hours} hours daily and should have broccoli chicken\"\n",
        "    else:\n",
        "      return f\"{self.name}'s duration is unknown thus should have only bamboo leaves\"\n",
        "\n",
        "panda1 = Panda(\"Kunfu\", \"Male\", 5)\n",
        "panda2 = Panda(\"Pan Pan\", \"Female\",3)\n",
        "panda3 = Panda(\"Ming Ming\", \"Female\",8)\n",
        "\n",
        "print(\"{} is a {} Panda Bear who is {} years old\".format(panda1.name,panda1.gender,panda1.age))\n",
        "\n",
        "print(\"{} is a {} Panda Bear who is {} years old\".format(panda2.name,panda2.gender,panda2.age))\n",
        "\n",
        "print(\"{} is a {} Panda Bear who is {} years old\".format(panda3.name,panda3.gender,panda3.age))\n",
        "print(\"===========================\")\n",
        "print(panda2.sleep(10))\n",
        "print(panda1.sleep(4))\n",
        "print(panda3.sleep(13))\n"
      ],
      "metadata": {
        "colab": {
          "base_uri": "https://localhost:8080/"
        },
        "id": "nBh-gBinvAiC",
        "outputId": "9b581419-362a-49f7-aa28-95ba880d2c09"
      },
      "execution_count": null,
      "outputs": [
        {
          "output_type": "stream",
          "name": "stdout",
          "text": [
            "Kunfu is a Male Panda Bear who is 5 years old\n",
            "Pan Pan is a Female Panda Bear who is 3 years old\n",
            "Ming Ming is a Female Panda Bear who is 8 years old\n",
            "===========================\n",
            "Pan Pan sleeps 10 hours daily and should have broccoli chicken\n",
            "Kunfu sleeps 4 hours daily and should have Mixed Veggies\n",
            "Ming Ming's duration is unknown thus should have only bamboo leaves\n"
          ]
        }
      ]
    },
    {
      "cell_type": "code",
      "source": [
        "class GreenPhone:\n",
        "  def __init__(self,name,version,camera):\n",
        "    self.name = name\n",
        "    self.version = version\n",
        "    self.camera = camera\n",
        "\n",
        "    self.count = 0\n",
        "\n",
        "  def showSpecification(self):\n",
        "    print(\"Phone Company: GreenPhone\")\n",
        "    print(f\"Model Name: {self.name}\")\n",
        "    print(f\"Android Version: {self.version}\")\n",
        "    print(f\"Number of Cameras: {self.camera}\")\n",
        "\n",
        "  def updatePhone(self):\n",
        "    if \"A\" in self.name:\n",
        "      self.version += 1\n",
        "      self.count += 1\n",
        "      if self.count <= 2:\n",
        "        print(f\"Your phone Greenphone {self.name} is upgraded to Android Version: {self.version}.\")\n",
        "      else:\n",
        "        self.version -= 1\n",
        "        print(f\"Your phone Greenphone {self.name} is already up to date.\")\n",
        "    elif \"M\" in self.name:\n",
        "      self.version += 1\n",
        "      self.count += 1\n",
        "      if self.count <= 3:\n",
        "        print(f\"Your phone Greenphone {self.name} is upgraded to Android Version: {self.version}.\")\n",
        "      else:\n",
        "        self.version -= 1\n",
        "        print(f\"Your phone Greenphone {self.name} is already up to date.\")\n",
        "    elif \"U\" in self.name:\n",
        "      self.version += 1\n",
        "      self.count += 1\n",
        "      if self.count <= 4:\n",
        "        print(f\"Your phone Greenphone {self.name} is upgraded to Android Version: {self.version}.\")\n",
        "      else:\n",
        "        self.version -= 1\n",
        "        print(f\"Your phone Greenphone {self.name} is already up to date.\")\n",
        "\n",
        "\n",
        "\n",
        "print('1=======================')\n",
        "p1 = GreenPhone('A1', 12, 3)\n",
        "p2 = GreenPhone('M11', 12, 4)\n",
        "p3 = GreenPhone('U20', 12, 5)\n",
        "p1.showSpecification()\n",
        "print('2=======================')\n",
        "p2.showSpecification()\n",
        "print('3=======================')\n",
        "p1.updatePhone()\n",
        "print('4=======================')\n",
        "p1.updatePhone()\n",
        "p2.updatePhone()\n",
        "p3.updatePhone()\n",
        "print('5=======================')\n",
        "p1.updatePhone()\n",
        "p2.updatePhone()\n",
        "p3.updatePhone()\n",
        "print('6=======================')\n",
        "p2.updatePhone()\n",
        "p3.updatePhone()\n",
        "print('7=======================')\n",
        "p1.showSpecification()\n",
        "p3.showSpecification()"
      ],
      "metadata": {
        "colab": {
          "base_uri": "https://localhost:8080/"
        },
        "id": "Qqwu3iZEx-wL",
        "outputId": "077d05a3-e7df-4cff-9450-7a58b40dbedf"
      },
      "execution_count": null,
      "outputs": [
        {
          "output_type": "stream",
          "name": "stdout",
          "text": [
            "1=======================\n",
            "Phone Company: GreenPhone\n",
            "Model Name: A1\n",
            "Android Version: 12\n",
            "Number of Cameras: 3\n",
            "2=======================\n",
            "Phone Company: GreenPhone\n",
            "Model Name: M11\n",
            "Android Version: 12\n",
            "Number of Cameras: 4\n",
            "3=======================\n",
            "Your phone Greenphone A1 is upgraded to Android Version: 13.\n",
            "4=======================\n",
            "Your phone Greenphone A1 is upgraded to Android Version: 14.\n",
            "Your phone Greenphone M11 is upgraded to Android Version: 13.\n",
            "Your phone Greenphone U20 is upgraded to Android Version: 13.\n",
            "5=======================\n",
            "Your phone Greenphone A1 is already up to date.\n",
            "Your phone Greenphone M11 is upgraded to Android Version: 14.\n",
            "Your phone Greenphone U20 is upgraded to Android Version: 14.\n",
            "6=======================\n",
            "Your phone Greenphone M11 is upgraded to Android Version: 15.\n",
            "Your phone Greenphone U20 is upgraded to Android Version: 15.\n",
            "7=======================\n",
            "Phone Company: GreenPhone\n",
            "Model Name: A1\n",
            "Android Version: 14\n",
            "Number of Cameras: 3\n",
            "Phone Company: GreenPhone\n",
            "Model Name: U20\n",
            "Android Version: 15\n",
            "Number of Cameras: 5\n"
          ]
        }
      ]
    },
    {
      "cell_type": "code",
      "source": [
        "class StudentDatabase:\n",
        "    def __init__(self, name, id):\n",
        "        self.name = name\n",
        "        self.id = id\n",
        "        self.grades = {}\n",
        "\n",
        "    def calculateGPA(self, courses_grades, semester):\n",
        "        semester_grades = {}\n",
        "        for course_grade in courses_grades:\n",
        "            course_name, letter_grade = course_grade.split(': ')\n",
        "            num_grade = float(letter_grade)\n",
        "            semester_grades[course_name] = num_grade\n",
        "\n",
        "        self.grades[semester] = semester_grades\n",
        "\n",
        "    def printDetails(self):\n",
        "        print(f\"Name: {self.name}\")\n",
        "        print(f\"ID: {self.id}\")\n",
        "        for semester, courses in self.grades.items():\n",
        "            print(f\"Courses taken in {semester}:\")\n",
        "            for course, grade in courses.items():\n",
        "                print(course)\n",
        "            semester_gpa = sum(courses.values()) / len(courses)\n",
        "            print(f\"GPA: {semester_gpa:.2f}\")\n",
        "\n",
        "\n",
        "\n",
        "# Driver Code\n",
        "s1 = StudentDatabase('Pietro', '10101222')\n",
        "s1.calculateGPA(['CSE230: 4.0', 'CSE220: 4.0',\n",
        "'MAT110: 4.0'], 'Summer2020')\n",
        "s1.calculateGPA(['CSE250: 3.7', 'CSE330: 4.0'],\n",
        "'Summer2021')\n",
        "print(f'Grades for {s1.name}\\n{s1.grades}')\n",
        "print('---------------------------------')\n",
        "s1.printDetails()\n",
        "s2 = StudentDatabase('Wanda', '10103332')\n",
        "s2.calculateGPA(['CSE111: 3.7', 'CSE260: 3.7',\n",
        "'ENG101: 4.0'], 'Summer2022')\n",
        "print('---------------------------------')\n",
        "print(f'Grades for {s2.name}\\n{s2.grades}')\n",
        "print('---------------------------------')\n",
        "s2.printDetails()"
      ],
      "metadata": {
        "colab": {
          "base_uri": "https://localhost:8080/"
        },
        "id": "qtnoiR2kObq5",
        "outputId": "ffa76590-1a82-4224-9c32-9a281f3c7d48"
      },
      "execution_count": null,
      "outputs": [
        {
          "output_type": "stream",
          "name": "stdout",
          "text": [
            "Grades for Pietro\n",
            "{'Summer2020': {'CSE230': 4.0, 'CSE220': 4.0, 'MAT110': 4.0}, 'Summer2021': {'CSE250': 3.7, 'CSE330': 4.0}}\n",
            "---------------------------------\n",
            "Name: Pietro\n",
            "ID: 10101222\n",
            "Courses taken in Summer2020:\n",
            "CSE230\n",
            "CSE220\n",
            "MAT110\n",
            "GPA: 4.00\n",
            "Courses taken in Summer2021:\n",
            "CSE250\n",
            "CSE330\n",
            "GPA: 3.85\n",
            "---------------------------------\n",
            "Grades for Wanda\n",
            "{'Summer2022': {'CSE111': 3.7, 'CSE260': 3.7, 'ENG101': 4.0}}\n",
            "---------------------------------\n",
            "Name: Wanda\n",
            "ID: 10103332\n",
            "Courses taken in Summer2022:\n",
            "CSE111\n",
            "CSE260\n",
            "ENG101\n",
            "GPA: 3.80\n"
          ]
        }
      ]
    },
    {
      "cell_type": "code",
      "source": [
        "#########################\n",
        "   #Tracing Problems\n",
        "#########################"
      ],
      "metadata": {
        "id": "4gVr3SgVB7w_"
      },
      "execution_count": null,
      "outputs": []
    },
    {
      "cell_type": "code",
      "source": [
        "class Scope:\n",
        " def __init__(self):\n",
        "  self.x, self.y = 1, 100\n",
        " def met1(self):\n",
        "  x = 3\n",
        "  x = self.x + 1\n",
        "  self.y = self.y + self.x + 1\n",
        "  x = self.y + self.met2() + self.y\n",
        "  print(x, self.y)\n",
        " def met2(self):\n",
        "  y = 0\n",
        "  print(self.x, y)\n",
        "  self.x = self.x + y\n",
        "  self.y = self.y + 200\n",
        "  return self.x + y\n",
        "q2 = Scope()\n",
        "q2.met1()\n",
        "q2.met2()\n",
        "q2.met1()\n",
        "q2.met2()"
      ],
      "metadata": {
        "colab": {
          "base_uri": "https://localhost:8080/"
        },
        "id": "wlNJf04xBid_",
        "outputId": "ed4caf6d-86ec-446b-ab70-6973f7aa2fbd"
      },
      "execution_count": null,
      "outputs": [
        {
          "output_type": "stream",
          "name": "stdout",
          "text": [
            "1 0\n",
            "405 302\n",
            "1 0\n",
            "1 0\n",
            "1209 704\n",
            "1 0\n"
          ]
        },
        {
          "output_type": "execute_result",
          "data": {
            "text/plain": [
              "1"
            ]
          },
          "metadata": {},
          "execution_count": 1
        }
      ]
    },
    {
      "cell_type": "code",
      "source": [
        "class FinalT6A:\n",
        " def __init__(self, x, p):\n",
        "  self.temp, self.sum, self.y = 4, 0, 1\n",
        "  self.temp += 1\n",
        "  self.y = self.temp - p\n",
        "  self.sum = self.temp + x\n",
        "  print(x, self.y, self.sum)\n",
        " def methodA(self):\n",
        "  x = 0\n",
        "  y = 0\n",
        "  y = y + self.y\n",
        "  x = self.y + 2 + self.temp\n",
        "  self.sum = x + y + self.methodB(self.temp, y)\n",
        "  print(x, y, self.sum)\n",
        " def methodB(self, temp, n):\n",
        "  x = 0\n",
        "  temp += 1\n",
        "  self.y = self.y + temp\n",
        "  x = x + 3 + n\n",
        "  self.sum = self.sum + x + self.y\n",
        "  print(x, self.y, self.sum)\n",
        "  return self.sum\n",
        "\n",
        "q1 = FinalT6A(2,1)\n",
        "q1.methodA()\n",
        "q1.methodA()"
      ],
      "metadata": {
        "colab": {
          "base_uri": "https://localhost:8080/"
        },
        "id": "kO7phOFTXPi7",
        "outputId": "729c5b43-d31d-468c-c051-3b59db8aa1cd"
      },
      "execution_count": null,
      "outputs": [
        {
          "output_type": "stream",
          "name": "stdout",
          "text": [
            "2 4 7\n",
            "7 10 24\n",
            "11 4 39\n",
            "13 16 68\n",
            "17 10 95\n"
          ]
        }
      ]
    },
    {
      "cell_type": "code",
      "source": [
        "class Test3:\n",
        " def __init__(self):\n",
        "  self.sum, self.y = 0, 0\n",
        " def methodA(self):\n",
        "  x, y = 2, 3\n",
        "  msg = [0]\n",
        "  msg[0] = 3\n",
        "  y = self.y + msg[0]\n",
        "  self.methodB(msg, msg[0])\n",
        "  x = self.y + msg[0]\n",
        "  self.sum = x + y + msg[0]\n",
        "  print(x, y, self.sum)\n",
        " def methodB(self, mg2, mg1):\n",
        "  x = 0\n",
        "  self.y = self.y + mg2[0]\n",
        "  x = x + 33 + mg1\n",
        "  self.sum = self.sum + x + self.y\n",
        "  mg2[0] = self.y + mg1\n",
        "  mg1 = mg1 + x + 2\n",
        "  print(x, self.y, self.sum)\n",
        "\n",
        "t3 = Test3()\n",
        "t3.methodA()\n",
        "t3.methodA()\n",
        "t3.methodA()\n",
        "t3.methodA()"
      ],
      "metadata": {
        "colab": {
          "base_uri": "https://localhost:8080/"
        },
        "id": "S3m3BYEB4RAC",
        "outputId": "98e34704-a967-4945-a81b-2a9bd8cc8fbf"
      },
      "execution_count": null,
      "outputs": [
        {
          "output_type": "stream",
          "name": "stdout",
          "text": [
            "36 3 39\n",
            "9 3 18\n",
            "36 6 60\n",
            "15 6 30\n",
            "36 9 75\n",
            "21 9 42\n",
            "36 12 90\n",
            "27 12 54\n"
          ]
        }
      ]
    },
    {
      "cell_type": "code",
      "source": [
        "class MidA:\n",
        " def __init__(self, x, y=0):\n",
        "  self.z = x+y\n",
        " def mA(self, z=5):\n",
        "  temp= z + self.z\n",
        "  if temp<8:\n",
        "    self.z = self.z+ self.mB(temp)\n",
        "  else:\n",
        "    self.z = self.mB([temp,self.z])+ self.z\n",
        "  print(z, temp, self.z)\n",
        " def mB(self, temp):\n",
        "  self.z += self.z\n",
        "  if type(temp)== int:\n",
        "    return self.z + 5 + temp\n",
        "  else:\n",
        "    print(temp[0], temp[1], self.z)\n",
        "    return self.z - 3 + temp[1]\n",
        "\n",
        "m1= MidA(2, 3)\n",
        "m1.mA(4)\n",
        "m1= MidA(1)\n",
        "m1.mA()"
      ],
      "metadata": {
        "colab": {
          "base_uri": "https://localhost:8080/"
        },
        "id": "Y0AcR4_0BY3Y",
        "outputId": "6935aabb-2e38-4f04-bcd3-b8e9052044d1"
      },
      "execution_count": null,
      "outputs": [
        {
          "output_type": "stream",
          "name": "stdout",
          "text": [
            "9 5 10\n",
            "4 9 22\n",
            "5 6 14\n"
          ]
        }
      ]
    }
  ]
}